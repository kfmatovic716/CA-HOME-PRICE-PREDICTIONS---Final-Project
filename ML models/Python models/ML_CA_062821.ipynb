{
  "nbformat": 4,
  "nbformat_minor": 5,
  "metadata": {
    "kernelspec": {
      "display_name": "Python 3",
      "language": "python",
      "name": "python3"
    },
    "language_info": {
      "codemirror_mode": {
        "name": "ipython",
        "version": 3
      },
      "file_extension": ".py",
      "mimetype": "text/x-python",
      "name": "python",
      "nbconvert_exporter": "python",
      "pygments_lexer": "ipython3",
      "version": "3.8.10"
    },
    "colab": {
      "name": "ML_test_CA_061621.ipynb",
      "provenance": [],
      "collapsed_sections": []
    },
    "accelerator": "GPU"
  },
  "cells": [
    {
      "cell_type": "code",
      "metadata": {
        "id": "b0ce7404-a95a-4d1e-ac52-7b483d9fe427"
      },
      "source": [
        "# NB. Run this in Google colab NOT Jupyter lab.  https://colab.research.google.com/notebooks/intro.ipynb?utm_source=scs-index#recent=true\n",
        "# Python ≥3.5 is required\n",
        "import sys\n",
        "assert sys.version_info >= (3, 5)\n",
        "\n",
        "# Is this notebook running on Colab or Kaggle?\n",
        "IS_COLAB = \"google.colab\" in sys.modules\n",
        "IS_KAGGLE = \"kaggle_secrets\" in sys.modules\n",
        "\n",
        "# Scikit-Learn ≥0.20 is required\n",
        "import sklearn\n",
        "assert sklearn.__version__ >= \"0.20\"\n",
        "\n",
        "# TensorFlow ≥2.0 is required\n",
        "import tensorflow as tf\n",
        "from tensorflow import keras\n",
        "assert tf.__version__ >= \"2.0\"\n",
        "\n",
        "if not tf.config.list_physical_devices('GPU'):\n",
        "    print(\"No GPU was detected. LSTMs and CNNs can be very slow without a GPU.\")\n",
        "    if IS_COLAB:\n",
        "        print(\"Go to Runtime > Change runtime and select a GPU hardware accelerator.\")\n",
        "    if IS_KAGGLE:\n",
        "        print(\"Go to Settings > Accelerator and select GPU.\")\n",
        "\n",
        "# Common imports\n",
        "import numpy as np\n",
        "import os\n",
        "from pathlib import Path\n",
        "\n",
        "# to make this notebook's output stable across runs\n",
        "np.random.seed(42)\n",
        "tf.random.set_seed(42)\n",
        "\n",
        "# To plot pretty figures\n",
        "%matplotlib inline\n",
        "import matplotlib as mpl\n",
        "import matplotlib.pyplot as plt\n",
        "mpl.rc('axes', labelsize=14)\n",
        "mpl.rc('xtick', labelsize=12)\n",
        "mpl.rc('ytick', labelsize=12)\n",
        "\n",
        "# Where to save the figures\n",
        "PROJECT_ROOT_DIR = \".\"\n",
        "CHAPTER_ID = \"rnn\"\n",
        "IMAGES_PATH = os.path.join(PROJECT_ROOT_DIR, \"images\", CHAPTER_ID)\n",
        "os.makedirs(IMAGES_PATH, exist_ok=True)\n",
        "\n",
        "def save_fig(fig_id, tight_layout=True, fig_extension=\"png\", resolution=300):\n",
        "    path = os.path.join(IMAGES_PATH, fig_id + \".\" + fig_extension)\n",
        "    print(\"Saving figure\", fig_id)\n",
        "    if tight_layout:\n",
        "        plt.tight_layout()\n",
        "    plt.savefig(path, format=fig_extension, dpi=resolution)"
      ],
      "id": "b0ce7404-a95a-4d1e-ac52-7b483d9fe427",
      "execution_count": 60,
      "outputs": []
    },
    {
      "cell_type": "code",
      "metadata": {
        "id": "9785355a-8f83-4bfb-a58d-3e8f6d92cb48"
      },
      "source": [
        "# Import libraries\n",
        "import pandas as pd\n",
        "from tensorflow.keras.models import Sequential\n",
        "from tensorflow.keras.layers import Dense\n",
        "from sklearn.model_selection import train_test_split\n",
        "from sklearn.preprocessing import MinMaxScaler"
      ],
      "id": "9785355a-8f83-4bfb-a58d-3e8f6d92cb48",
      "execution_count": 61,
      "outputs": []
    },
    {
      "cell_type": "code",
      "metadata": {
        "id": "17302c80-77df-4551-9030-1847c7fa8778"
      },
      "source": [
        "sf_df = pd.read_csv('zillow_bedroom3_CA_3yr.csv',index_col=0)"
      ],
      "id": "17302c80-77df-4551-9030-1847c7fa8778",
      "execution_count": 62,
      "outputs": []
    },
    {
      "cell_type": "code",
      "metadata": {
        "colab": {
          "base_uri": "https://localhost:8080/",
          "height": 474
        },
        "id": "mFHYOLHzJM3e",
        "outputId": "78fd2f0f-9a96-4cbe-a914-e1f5e3171a3f"
      },
      "source": [
        "# Make sure to set the zip codes down the rows\n",
        "sf_df"
      ],
      "id": "mFHYOLHzJM3e",
      "execution_count": 63,
      "outputs": [
        {
          "output_type": "execute_result",
          "data": {
            "text/html": [
              "<div>\n",
              "<style scoped>\n",
              "    .dataframe tbody tr th:only-of-type {\n",
              "        vertical-align: middle;\n",
              "    }\n",
              "\n",
              "    .dataframe tbody tr th {\n",
              "        vertical-align: top;\n",
              "    }\n",
              "\n",
              "    .dataframe thead th {\n",
              "        text-align: right;\n",
              "    }\n",
              "</style>\n",
              "<table border=\"1\" class=\"dataframe\">\n",
              "  <thead>\n",
              "    <tr style=\"text-align: right;\">\n",
              "      <th></th>\n",
              "      <th>4/30/2018</th>\n",
              "      <th>5/31/2018</th>\n",
              "      <th>6/30/2018</th>\n",
              "      <th>7/31/2018</th>\n",
              "      <th>8/31/2018</th>\n",
              "      <th>9/30/2018</th>\n",
              "      <th>10/31/2018</th>\n",
              "      <th>11/30/2018</th>\n",
              "      <th>12/31/2018</th>\n",
              "      <th>1/31/2019</th>\n",
              "      <th>2/28/2019</th>\n",
              "      <th>3/31/2019</th>\n",
              "      <th>4/30/2019</th>\n",
              "      <th>5/31/2019</th>\n",
              "      <th>6/30/2019</th>\n",
              "      <th>7/31/2019</th>\n",
              "      <th>8/31/2019</th>\n",
              "      <th>9/30/2019</th>\n",
              "      <th>10/31/2019</th>\n",
              "      <th>11/30/2019</th>\n",
              "      <th>12/31/2019</th>\n",
              "      <th>1/31/2020</th>\n",
              "      <th>2/29/2020</th>\n",
              "      <th>3/31/2020</th>\n",
              "      <th>4/30/2020</th>\n",
              "      <th>5/31/2020</th>\n",
              "      <th>6/30/2020</th>\n",
              "      <th>7/31/2020</th>\n",
              "      <th>8/31/2020</th>\n",
              "      <th>9/30/2020</th>\n",
              "      <th>10/31/2020</th>\n",
              "      <th>11/30/2020</th>\n",
              "      <th>12/31/2020</th>\n",
              "      <th>1/31/2021</th>\n",
              "      <th>2/28/2021</th>\n",
              "      <th>3/31/2021</th>\n",
              "      <th>4/30/2021</th>\n",
              "    </tr>\n",
              "    <tr>\n",
              "      <th>Zip</th>\n",
              "      <th></th>\n",
              "      <th></th>\n",
              "      <th></th>\n",
              "      <th></th>\n",
              "      <th></th>\n",
              "      <th></th>\n",
              "      <th></th>\n",
              "      <th></th>\n",
              "      <th></th>\n",
              "      <th></th>\n",
              "      <th></th>\n",
              "      <th></th>\n",
              "      <th></th>\n",
              "      <th></th>\n",
              "      <th></th>\n",
              "      <th></th>\n",
              "      <th></th>\n",
              "      <th></th>\n",
              "      <th></th>\n",
              "      <th></th>\n",
              "      <th></th>\n",
              "      <th></th>\n",
              "      <th></th>\n",
              "      <th></th>\n",
              "      <th></th>\n",
              "      <th></th>\n",
              "      <th></th>\n",
              "      <th></th>\n",
              "      <th></th>\n",
              "      <th></th>\n",
              "      <th></th>\n",
              "      <th></th>\n",
              "      <th></th>\n",
              "      <th></th>\n",
              "      <th></th>\n",
              "      <th></th>\n",
              "      <th></th>\n",
              "    </tr>\n",
              "  </thead>\n",
              "  <tbody>\n",
              "    <tr>\n",
              "      <th>94109</th>\n",
              "      <td>2130062</td>\n",
              "      <td>2131772</td>\n",
              "      <td>2135398</td>\n",
              "      <td>2139172</td>\n",
              "      <td>2139358</td>\n",
              "      <td>2130341</td>\n",
              "      <td>2134219</td>\n",
              "      <td>2134635</td>\n",
              "      <td>2130438</td>\n",
              "      <td>2144300</td>\n",
              "      <td>2154963</td>\n",
              "      <td>2163355</td>\n",
              "      <td>2153972</td>\n",
              "      <td>2158369</td>\n",
              "      <td>2168078</td>\n",
              "      <td>2166787</td>\n",
              "      <td>2158038</td>\n",
              "      <td>2151150</td>\n",
              "      <td>2160568</td>\n",
              "      <td>2169202</td>\n",
              "      <td>2182998</td>\n",
              "      <td>2180265</td>\n",
              "      <td>2184426</td>\n",
              "      <td>2173069</td>\n",
              "      <td>2164827</td>\n",
              "      <td>2144387</td>\n",
              "      <td>2125586</td>\n",
              "      <td>2118364</td>\n",
              "      <td>2115953</td>\n",
              "      <td>2114618</td>\n",
              "      <td>2094918</td>\n",
              "      <td>2077283</td>\n",
              "      <td>2058643</td>\n",
              "      <td>2045047</td>\n",
              "      <td>2025833.0</td>\n",
              "      <td>2015766.0</td>\n",
              "      <td>2010121</td>\n",
              "    </tr>\n",
              "    <tr>\n",
              "      <th>90250</th>\n",
              "      <td>637867</td>\n",
              "      <td>641904</td>\n",
              "      <td>645149</td>\n",
              "      <td>648845</td>\n",
              "      <td>650768</td>\n",
              "      <td>652322</td>\n",
              "      <td>654350</td>\n",
              "      <td>656754</td>\n",
              "      <td>657787</td>\n",
              "      <td>658057</td>\n",
              "      <td>655964</td>\n",
              "      <td>654376</td>\n",
              "      <td>654724</td>\n",
              "      <td>659269</td>\n",
              "      <td>664799</td>\n",
              "      <td>666600</td>\n",
              "      <td>666931</td>\n",
              "      <td>667107</td>\n",
              "      <td>668811</td>\n",
              "      <td>671153</td>\n",
              "      <td>676863</td>\n",
              "      <td>683360</td>\n",
              "      <td>690762</td>\n",
              "      <td>697138</td>\n",
              "      <td>702236</td>\n",
              "      <td>704001</td>\n",
              "      <td>704895</td>\n",
              "      <td>710043</td>\n",
              "      <td>717811</td>\n",
              "      <td>726563</td>\n",
              "      <td>734725</td>\n",
              "      <td>742269</td>\n",
              "      <td>748281</td>\n",
              "      <td>754554</td>\n",
              "      <td>762051.0</td>\n",
              "      <td>770630.0</td>\n",
              "      <td>780450</td>\n",
              "    </tr>\n",
              "    <tr>\n",
              "      <th>94565</th>\n",
              "      <td>392917</td>\n",
              "      <td>396119</td>\n",
              "      <td>400856</td>\n",
              "      <td>409441</td>\n",
              "      <td>413240</td>\n",
              "      <td>418477</td>\n",
              "      <td>421064</td>\n",
              "      <td>423545</td>\n",
              "      <td>423693</td>\n",
              "      <td>421847</td>\n",
              "      <td>420788</td>\n",
              "      <td>419370</td>\n",
              "      <td>419810</td>\n",
              "      <td>421232</td>\n",
              "      <td>422359</td>\n",
              "      <td>421912</td>\n",
              "      <td>420045</td>\n",
              "      <td>418675</td>\n",
              "      <td>420082</td>\n",
              "      <td>423965</td>\n",
              "      <td>427659</td>\n",
              "      <td>428772</td>\n",
              "      <td>429495</td>\n",
              "      <td>432760</td>\n",
              "      <td>435766</td>\n",
              "      <td>435831</td>\n",
              "      <td>435292</td>\n",
              "      <td>435959</td>\n",
              "      <td>440377</td>\n",
              "      <td>443844</td>\n",
              "      <td>446910</td>\n",
              "      <td>447582</td>\n",
              "      <td>450126</td>\n",
              "      <td>455255</td>\n",
              "      <td>461604.0</td>\n",
              "      <td>466804.0</td>\n",
              "      <td>472311</td>\n",
              "    </tr>\n",
              "    <tr>\n",
              "      <th>90046</th>\n",
              "      <td>1760877</td>\n",
              "      <td>1755089</td>\n",
              "      <td>1749264</td>\n",
              "      <td>1743263</td>\n",
              "      <td>1741232</td>\n",
              "      <td>1737003</td>\n",
              "      <td>1741506</td>\n",
              "      <td>1748692</td>\n",
              "      <td>1751007</td>\n",
              "      <td>1749466</td>\n",
              "      <td>1740172</td>\n",
              "      <td>1734127</td>\n",
              "      <td>1734441</td>\n",
              "      <td>1746624</td>\n",
              "      <td>1756632</td>\n",
              "      <td>1743672</td>\n",
              "      <td>1730411</td>\n",
              "      <td>1724719</td>\n",
              "      <td>1740202</td>\n",
              "      <td>1749452</td>\n",
              "      <td>1759038</td>\n",
              "      <td>1762758</td>\n",
              "      <td>1775206</td>\n",
              "      <td>1787169</td>\n",
              "      <td>1798453</td>\n",
              "      <td>1804152</td>\n",
              "      <td>1811637</td>\n",
              "      <td>1839589</td>\n",
              "      <td>1866046</td>\n",
              "      <td>1887115</td>\n",
              "      <td>1888088</td>\n",
              "      <td>1891790</td>\n",
              "      <td>1898806</td>\n",
              "      <td>1912399</td>\n",
              "      <td>1923580.0</td>\n",
              "      <td>1933774.0</td>\n",
              "      <td>1943551</td>\n",
              "    </tr>\n",
              "    <tr>\n",
              "      <th>94501</th>\n",
              "      <td>1115313</td>\n",
              "      <td>1125495</td>\n",
              "      <td>1130851</td>\n",
              "      <td>1124806</td>\n",
              "      <td>1121445</td>\n",
              "      <td>1112080</td>\n",
              "      <td>1114016</td>\n",
              "      <td>1111794</td>\n",
              "      <td>1104156</td>\n",
              "      <td>1092689</td>\n",
              "      <td>1085696</td>\n",
              "      <td>1089607</td>\n",
              "      <td>1097451</td>\n",
              "      <td>1110845</td>\n",
              "      <td>1122726</td>\n",
              "      <td>1136498</td>\n",
              "      <td>1137035</td>\n",
              "      <td>1138896</td>\n",
              "      <td>1133375</td>\n",
              "      <td>1131725</td>\n",
              "      <td>1140375</td>\n",
              "      <td>1159703</td>\n",
              "      <td>1170607</td>\n",
              "      <td>1173932</td>\n",
              "      <td>1167793</td>\n",
              "      <td>1162050</td>\n",
              "      <td>1156972</td>\n",
              "      <td>1158776</td>\n",
              "      <td>1170960</td>\n",
              "      <td>1185568</td>\n",
              "      <td>1202986</td>\n",
              "      <td>1220271</td>\n",
              "      <td>1233379</td>\n",
              "      <td>1241969</td>\n",
              "      <td>1258359.0</td>\n",
              "      <td>1279471.0</td>\n",
              "      <td>1309172</td>\n",
              "    </tr>\n",
              "    <tr>\n",
              "      <th>...</th>\n",
              "      <td>...</td>\n",
              "      <td>...</td>\n",
              "      <td>...</td>\n",
              "      <td>...</td>\n",
              "      <td>...</td>\n",
              "      <td>...</td>\n",
              "      <td>...</td>\n",
              "      <td>...</td>\n",
              "      <td>...</td>\n",
              "      <td>...</td>\n",
              "      <td>...</td>\n",
              "      <td>...</td>\n",
              "      <td>...</td>\n",
              "      <td>...</td>\n",
              "      <td>...</td>\n",
              "      <td>...</td>\n",
              "      <td>...</td>\n",
              "      <td>...</td>\n",
              "      <td>...</td>\n",
              "      <td>...</td>\n",
              "      <td>...</td>\n",
              "      <td>...</td>\n",
              "      <td>...</td>\n",
              "      <td>...</td>\n",
              "      <td>...</td>\n",
              "      <td>...</td>\n",
              "      <td>...</td>\n",
              "      <td>...</td>\n",
              "      <td>...</td>\n",
              "      <td>...</td>\n",
              "      <td>...</td>\n",
              "      <td>...</td>\n",
              "      <td>...</td>\n",
              "      <td>...</td>\n",
              "      <td>...</td>\n",
              "      <td>...</td>\n",
              "      <td>...</td>\n",
              "    </tr>\n",
              "    <tr>\n",
              "      <th>96061</th>\n",
              "      <td>164161</td>\n",
              "      <td>163357</td>\n",
              "      <td>167332</td>\n",
              "      <td>173144</td>\n",
              "      <td>175435</td>\n",
              "      <td>175222</td>\n",
              "      <td>174212</td>\n",
              "      <td>173614</td>\n",
              "      <td>174211</td>\n",
              "      <td>173725</td>\n",
              "      <td>172350</td>\n",
              "      <td>173860</td>\n",
              "      <td>180430</td>\n",
              "      <td>185170</td>\n",
              "      <td>184101</td>\n",
              "      <td>179120</td>\n",
              "      <td>177139</td>\n",
              "      <td>175266</td>\n",
              "      <td>177098</td>\n",
              "      <td>178151</td>\n",
              "      <td>179726</td>\n",
              "      <td>181576</td>\n",
              "      <td>182965</td>\n",
              "      <td>180988</td>\n",
              "      <td>175401</td>\n",
              "      <td>170884</td>\n",
              "      <td>171041</td>\n",
              "      <td>172415</td>\n",
              "      <td>173207</td>\n",
              "      <td>175204</td>\n",
              "      <td>174313</td>\n",
              "      <td>173828</td>\n",
              "      <td>172530</td>\n",
              "      <td>171691</td>\n",
              "      <td>171934.0</td>\n",
              "      <td>173847.0</td>\n",
              "      <td>176713</td>\n",
              "    </tr>\n",
              "    <tr>\n",
              "      <th>95141</th>\n",
              "      <td>1549016</td>\n",
              "      <td>1554726</td>\n",
              "      <td>1585995</td>\n",
              "      <td>1612896</td>\n",
              "      <td>1606926</td>\n",
              "      <td>1569308</td>\n",
              "      <td>1549706</td>\n",
              "      <td>1535600</td>\n",
              "      <td>1530033</td>\n",
              "      <td>1512214</td>\n",
              "      <td>1497636</td>\n",
              "      <td>1471459</td>\n",
              "      <td>1440469</td>\n",
              "      <td>1433246</td>\n",
              "      <td>1422915</td>\n",
              "      <td>1449687</td>\n",
              "      <td>1457629</td>\n",
              "      <td>1467044</td>\n",
              "      <td>1461778</td>\n",
              "      <td>1460032</td>\n",
              "      <td>1479644</td>\n",
              "      <td>1487025</td>\n",
              "      <td>1503856</td>\n",
              "      <td>1532086</td>\n",
              "      <td>1559189</td>\n",
              "      <td>1559894</td>\n",
              "      <td>1544224</td>\n",
              "      <td>1516036</td>\n",
              "      <td>1518160</td>\n",
              "      <td>1532945</td>\n",
              "      <td>1549706</td>\n",
              "      <td>1563216</td>\n",
              "      <td>1557214</td>\n",
              "      <td>1566024</td>\n",
              "      <td>1565155.0</td>\n",
              "      <td>1562574.0</td>\n",
              "      <td>1567172</td>\n",
              "    </tr>\n",
              "    <tr>\n",
              "      <th>95375</th>\n",
              "      <td>379047</td>\n",
              "      <td>379571</td>\n",
              "      <td>380384</td>\n",
              "      <td>377313</td>\n",
              "      <td>370428</td>\n",
              "      <td>364516</td>\n",
              "      <td>363329</td>\n",
              "      <td>363124</td>\n",
              "      <td>361476</td>\n",
              "      <td>362687</td>\n",
              "      <td>365135</td>\n",
              "      <td>368640</td>\n",
              "      <td>369855</td>\n",
              "      <td>364140</td>\n",
              "      <td>357016</td>\n",
              "      <td>349639</td>\n",
              "      <td>354366</td>\n",
              "      <td>359951</td>\n",
              "      <td>365114</td>\n",
              "      <td>364875</td>\n",
              "      <td>365615</td>\n",
              "      <td>365970</td>\n",
              "      <td>364843</td>\n",
              "      <td>362573</td>\n",
              "      <td>359499</td>\n",
              "      <td>360196</td>\n",
              "      <td>361678</td>\n",
              "      <td>365555</td>\n",
              "      <td>363283</td>\n",
              "      <td>360785</td>\n",
              "      <td>358423</td>\n",
              "      <td>359845</td>\n",
              "      <td>361620</td>\n",
              "      <td>363875</td>\n",
              "      <td>367284.0</td>\n",
              "      <td>371691.0</td>\n",
              "      <td>377706</td>\n",
              "    </tr>\n",
              "    <tr>\n",
              "      <th>95229</th>\n",
              "      <td>242119</td>\n",
              "      <td>246230</td>\n",
              "      <td>247216</td>\n",
              "      <td>245381</td>\n",
              "      <td>242674</td>\n",
              "      <td>244402</td>\n",
              "      <td>245787</td>\n",
              "      <td>248844</td>\n",
              "      <td>251526</td>\n",
              "      <td>253888</td>\n",
              "      <td>256170</td>\n",
              "      <td>255966</td>\n",
              "      <td>254639</td>\n",
              "      <td>250242</td>\n",
              "      <td>247981</td>\n",
              "      <td>248396</td>\n",
              "      <td>250942</td>\n",
              "      <td>251477</td>\n",
              "      <td>249520</td>\n",
              "      <td>247840</td>\n",
              "      <td>248413</td>\n",
              "      <td>248511</td>\n",
              "      <td>251205</td>\n",
              "      <td>251223</td>\n",
              "      <td>253091</td>\n",
              "      <td>254695</td>\n",
              "      <td>256704</td>\n",
              "      <td>258205</td>\n",
              "      <td>258550</td>\n",
              "      <td>259954</td>\n",
              "      <td>264473</td>\n",
              "      <td>268591</td>\n",
              "      <td>271195</td>\n",
              "      <td>274563</td>\n",
              "      <td>276419.0</td>\n",
              "      <td>281760.0</td>\n",
              "      <td>286305</td>\n",
              "    </tr>\n",
              "    <tr>\n",
              "      <th>95721</th>\n",
              "      <td>324236</td>\n",
              "      <td>325198</td>\n",
              "      <td>326067</td>\n",
              "      <td>327598</td>\n",
              "      <td>330734</td>\n",
              "      <td>335400</td>\n",
              "      <td>336298</td>\n",
              "      <td>341352</td>\n",
              "      <td>352422</td>\n",
              "      <td>362609</td>\n",
              "      <td>366357</td>\n",
              "      <td>368605</td>\n",
              "      <td>367840</td>\n",
              "      <td>375203</td>\n",
              "      <td>380554</td>\n",
              "      <td>380812</td>\n",
              "      <td>372512</td>\n",
              "      <td>360778</td>\n",
              "      <td>356791</td>\n",
              "      <td>356868</td>\n",
              "      <td>354808</td>\n",
              "      <td>354894</td>\n",
              "      <td>351955</td>\n",
              "      <td>352066</td>\n",
              "      <td>349895</td>\n",
              "      <td>348338</td>\n",
              "      <td>346964</td>\n",
              "      <td>349928</td>\n",
              "      <td>358524</td>\n",
              "      <td>369372</td>\n",
              "      <td>377527</td>\n",
              "      <td>382232</td>\n",
              "      <td>387354</td>\n",
              "      <td>392724</td>\n",
              "      <td>405120.0</td>\n",
              "      <td>417377.0</td>\n",
              "      <td>433512</td>\n",
              "    </tr>\n",
              "  </tbody>\n",
              "</table>\n",
              "<p>1672 rows × 37 columns</p>\n",
              "</div>"
            ],
            "text/plain": [
              "       4/30/2018  5/31/2018  6/30/2018  ...  2/28/2021  3/31/2021  4/30/2021\n",
              "Zip                                     ...                                 \n",
              "94109    2130062    2131772    2135398  ...  2025833.0  2015766.0    2010121\n",
              "90250     637867     641904     645149  ...   762051.0   770630.0     780450\n",
              "94565     392917     396119     400856  ...   461604.0   466804.0     472311\n",
              "90046    1760877    1755089    1749264  ...  1923580.0  1933774.0    1943551\n",
              "94501    1115313    1125495    1130851  ...  1258359.0  1279471.0    1309172\n",
              "...          ...        ...        ...  ...        ...        ...        ...\n",
              "96061     164161     163357     167332  ...   171934.0   173847.0     176713\n",
              "95141    1549016    1554726    1585995  ...  1565155.0  1562574.0    1567172\n",
              "95375     379047     379571     380384  ...   367284.0   371691.0     377706\n",
              "95229     242119     246230     247216  ...   276419.0   281760.0     286305\n",
              "95721     324236     325198     326067  ...   405120.0   417377.0     433512\n",
              "\n",
              "[1672 rows x 37 columns]"
            ]
          },
          "metadata": {
            "tags": []
          },
          "execution_count": 63
        }
      ]
    },
    {
      "cell_type": "markdown",
      "metadata": {
        "id": "a2MS2nO8VmTW"
      },
      "source": [
        "# New Section"
      ],
      "id": "a2MS2nO8VmTW"
    },
    {
      "cell_type": "markdown",
      "metadata": {
        "id": "38bcb674-e1eb-4feb-b474-40a30184df23"
      },
      "source": [
        ""
      ],
      "id": "38bcb674-e1eb-4feb-b474-40a30184df23"
    },
    {
      "cell_type": "code",
      "metadata": {
        "id": "5c11038c-ad28-4d9b-a929-8bb3a44008c0"
      },
      "source": [
        "# set the random seed\n",
        "np.random.seed(42)\n",
        "#remove text column headers\n",
        "data = sf_df.values\n",
        "data_scaled = data/1000000"
      ],
      "id": "5c11038c-ad28-4d9b-a929-8bb3a44008c0",
      "execution_count": 64,
      "outputs": []
    },
    {
      "cell_type": "markdown",
      "metadata": {
        "id": "tbHpioNvQMEL"
      },
      "source": [
        "Scale the data\n"
      ],
      "id": "tbHpioNvQMEL"
    },
    {
      "cell_type": "code",
      "metadata": {
        "id": "yUT0LG9sPmlQ"
      },
      "source": [
        "# Scale the data so that the model doesn't take too long to run (and to remove all units to ensure all features are on the same footing)\n",
        "# from sklearn.preprocessing import StandardScaler\n",
        "# scaler = StandardScaler()\n",
        "# scaler.fit(data)\n",
        "# scaler.transform(data)\n",
        "# data_scaled = scaler.transform(data)"
      ],
      "id": "yUT0LG9sPmlQ",
      "execution_count": 65,
      "outputs": []
    },
    {
      "cell_type": "code",
      "metadata": {
        "id": "se_q3158QIdf"
      },
      "source": [
        "# data_scaled.shape"
      ],
      "id": "se_q3158QIdf",
      "execution_count": 66,
      "outputs": []
    },
    {
      "cell_type": "markdown",
      "metadata": {
        "id": "f09e84e6-53aa-426d-94b5-cad1d4f1505e"
      },
      "source": [
        "Define training/testing/validation cells"
      ],
      "id": "f09e84e6-53aa-426d-94b5-cad1d4f1505e"
    },
    {
      "cell_type": "code",
      "metadata": {
        "id": "9acefd5d-d243-455e-9735-c37a123d2186",
        "colab": {
          "base_uri": "https://localhost:8080/"
        },
        "outputId": "8ee5ee6c-7038-4046-e3a3-0892134f7efc"
      },
      "source": [
        "train_stop = 1100\n",
        "valid_stop = 1300\n",
        "n_steps = len(sf_df.columns)\n",
        "n_steps"
      ],
      "id": "9acefd5d-d243-455e-9735-c37a123d2186",
      "execution_count": 67,
      "outputs": [
        {
          "output_type": "execute_result",
          "data": {
            "text/plain": [
              "37"
            ]
          },
          "metadata": {
            "tags": []
          },
          "execution_count": 67
        }
      ]
    },
    {
      "cell_type": "code",
      "metadata": {
        "id": "9eb1dc1b-efc8-425a-bfd3-aead25d25976"
      },
      "source": [
        "# split the data into test, training and validation sets\n",
        "X_train, y_train = data_scaled[:train_stop,:-1], data_scaled[:train_stop,-1]\n",
        "X_valid, y_valid = data_scaled[train_stop:valid_stop,:-1], data_scaled[train_stop:valid_stop,-1]\n",
        "X_test, y_test =   data_scaled[valid_stop:,:-1], data_scaled[valid_stop:,-1]"
      ],
      "id": "9eb1dc1b-efc8-425a-bfd3-aead25d25976",
      "execution_count": 68,
      "outputs": []
    },
    {
      "cell_type": "code",
      "metadata": {
        "id": "Qzk_upvDK-ZC"
      },
      "source": [
        "y_train = np.expand_dims(y_train,-1)\n",
        "y_valid = np.expand_dims(y_valid,-1)\n",
        "y_test = np.expand_dims(y_test,-1)\n",
        "X_train = np.expand_dims(X_train,-1)\n",
        "X_valid = np.expand_dims(X_valid,-1)\n",
        "X_test = np.expand_dims(X_test,-1)"
      ],
      "id": "Qzk_upvDK-ZC",
      "execution_count": 69,
      "outputs": []
    },
    {
      "cell_type": "code",
      "metadata": {
        "id": "11ab4ee2-cfc9-48bb-9839-07bfd9fa605a"
      },
      "source": [
        "# Define a function to plot our sample\n",
        "def plot_series(series, y=None, y_pred=None, x_label=\"$t$\", y_label=\"$x(t)$\"):\n",
        "    plt.plot(series, \".-\")\n",
        "    if y is not None:\n",
        "        plt.plot(n_steps, y, \"bx\", markersize=10)\n",
        "    if y_pred is not None:\n",
        "        plt.plot(n_steps, y_pred, \"ro\")\n",
        "    plt.grid(True)\n",
        "    if x_label:\n",
        "        plt.xlabel(x_label, fontsize=16)\n",
        "    if y_label:\n",
        "        plt.ylabel(y_label, fontsize=16, rotation=0)\n",
        "    plt.hlines(0, 0, 100, linewidth=1)\n",
        "    plt.axis([0, n_steps + 1, 0, 1])\n"
      ],
      "id": "11ab4ee2-cfc9-48bb-9839-07bfd9fa605a",
      "execution_count": 70,
      "outputs": []
    },
    {
      "cell_type": "code",
      "metadata": {
        "colab": {
          "base_uri": "https://localhost:8080/"
        },
        "id": "g6MZV0meN-j4",
        "outputId": "20add490-5afa-4a65-86cd-59dc76d8de4d"
      },
      "source": [
        "X_valid[0,:,0].shape"
      ],
      "id": "g6MZV0meN-j4",
      "execution_count": 71,
      "outputs": [
        {
          "output_type": "execute_result",
          "data": {
            "text/plain": [
              "(36,)"
            ]
          },
          "metadata": {
            "tags": []
          },
          "execution_count": 71
        }
      ]
    },
    {
      "cell_type": "code",
      "metadata": {
        "colab": {
          "base_uri": "https://localhost:8080/",
          "height": 315
        },
        "id": "e8d002d7-f764-4245-81af-28ac0a8659c3",
        "outputId": "cc8e2b0a-654f-4016-e693-97b3f380f560"
      },
      "source": [
        "fig, axes = plt.subplots(nrows=1, ncols=5, sharey=True, figsize=(18, 4))\n",
        "for col in range(5):\n",
        "    plt.sca(axes[col])\n",
        "    plot_series(X_valid[col, :, 0], y_valid[col, 0],\n",
        "                y_label=(\"$x(t)$\" if col==0 else None))\n",
        "save_fig(\"time_series_plot\")\n",
        "plt.show()\n",
        "# 'x' in the graphs is what we are trying to predict"
      ],
      "id": "e8d002d7-f764-4245-81af-28ac0a8659c3",
      "execution_count": 72,
      "outputs": [
        {
          "output_type": "stream",
          "text": [
            "Saving figure time_series_plot\n"
          ],
          "name": "stdout"
        },
        {
          "output_type": "display_data",
          "data": {
            "image/png": "[encoded data removed]",
            "text/plain": [
              "<Figure size 1296x288 with 5 Axes>"
            ]
          },
          "metadata": {
            "tags": [],
            "needs_background": "light"
          }
        }
      ]
    },
    {
      "cell_type": "markdown",
      "metadata": {
        "id": "NPQFgdPiaQ-G"
      },
      "source": [
        "Establish a baseline"
      ],
      "id": "NPQFgdPiaQ-G"
    },
    {
      "cell_type": "code",
      "metadata": {
        "colab": {
          "base_uri": "https://localhost:8080/"
        },
        "id": "MJaqfFu7aT1r",
        "outputId": "9e8093aa-8af3-4f20-b08c-5280ed40e429"
      },
      "source": [
        "#Assume the base prediction is simply the last datapoint in the series\n",
        "y_pred = X_valid[:, -1]\n",
        "np.mean(keras.losses.mean_squared_error(y_valid, y_pred))\n",
        "# The number below is the MSE of the last datapoint. "
      ],
      "id": "MJaqfFu7aT1r",
      "execution_count": 73,
      "outputs": [
        {
          "output_type": "execute_result",
          "data": {
            "text/plain": [
              "0.00012415521710500005"
            ]
          },
          "metadata": {
            "tags": []
          },
          "execution_count": 73
        }
      ]
    },
    {
      "cell_type": "code",
      "metadata": {
        "colab": {
          "base_uri": "https://localhost:8080/",
          "height": 293
        },
        "id": "eWUjVeGAaVoy",
        "outputId": "4b42078c-f333-41c5-8e48-a221600c046a"
      },
      "source": [
        "plot_series(X_valid[0, :, 0], y_valid[0, 0], y_pred[0, 0])\n",
        "plt.show()"
      ],
      "id": "eWUjVeGAaVoy",
      "execution_count": 74,
      "outputs": [
        {
          "output_type": "display_data",
          "data": {
            "image/png": "[encoded data removed]",
            "text/plain": [
              "<Figure size 432x288 with 1 Axes>"
            ]
          },
          "metadata": {
            "tags": [],
            "needs_background": "light"
          }
        }
      ]
    },
    {
      "cell_type": "code",
      "metadata": {
        "id": "10uc4CZqauJP"
      },
      "source": [
        "np.random.seed(42)\n",
        "tf.random.set_seed(42)"
      ],
      "id": "10uc4CZqauJP",
      "execution_count": 75,
      "outputs": []
    },
    {
      "cell_type": "code",
      "metadata": {
        "id": "eGuEH_pwau2H"
      },
      "source": [
        "# simple linear regression\n",
        "model = keras.models.Sequential([\n",
        "    keras.layers.Flatten(input_shape=[36, 1]),\n",
        "    keras.layers.Dense(1)\n",
        "])\n"
      ],
      "id": "eGuEH_pwau2H",
      "execution_count": 76,
      "outputs": []
    },
    {
      "cell_type": "code",
      "metadata": {
        "colab": {
          "base_uri": "https://localhost:8080/"
        },
        "id": "4pvqaTDtaqjG",
        "outputId": "daae647b-fab3-41ca-dfa1-e0def348eadb"
      },
      "source": [
        "model.summary()"
      ],
      "id": "4pvqaTDtaqjG",
      "execution_count": 77,
      "outputs": [
        {
          "output_type": "stream",
          "text": [
            "Model: \"sequential_3\"\n",
            "_________________________________________________________________\n",
            "Layer (type)                 Output Shape              Param #   \n",
            "=================================================================\n",
            "flatten_2 (Flatten)          (None, 36)                0         \n",
            "_________________________________________________________________\n",
            "dense_2 (Dense)              (None, 1)                 37        \n",
            "=================================================================\n",
            "Total params: 37\n",
            "Trainable params: 37\n",
            "Non-trainable params: 0\n",
            "_________________________________________________________________\n"
          ],
          "name": "stdout"
        }
      ]
    },
    {
      "cell_type": "code",
      "metadata": {
        "colab": {
          "base_uri": "https://localhost:8080/"
        },
        "id": "7YdpyKDAE-EB",
        "outputId": "8dc701db-d935-484e-9802-e22487a773b0"
      },
      "source": [
        "model.compile(loss=\"mse\", optimizer=\"adam\")\n",
        "model.evaluate(X_valid, y_valid)\n",
        "# The MSE for the simple linear model is about 0.195. Higher than that of the machine learning model."
      ],
      "id": "7YdpyKDAE-EB",
      "execution_count": 78,
      "outputs": [
        {
          "output_type": "stream",
          "text": [
            "7/7 [==============================] - 0s 2ms/step - loss: 0.7711\n"
          ],
          "name": "stdout"
        },
        {
          "output_type": "execute_result",
          "data": {
            "text/plain": [
              "0.7711336612701416"
            ]
          },
          "metadata": {
            "tags": []
          },
          "execution_count": 78
        }
      ]
    },
    {
      "cell_type": "code",
      "metadata": {
        "colab": {
          "base_uri": "https://localhost:8080/"
        },
        "id": "45t1jRmyawso",
        "outputId": "0c0ee284-dbc2-41ef-95c0-d96251c133aa"
      },
      "source": [
        "# This is the simplest model we can build (simple Recurrant neural network (RNN)). Contains a single layer with a single neuron. \n",
        "model.compile(loss=\"mse\", optimizer=\"adam\")\n",
        "history = model.fit(X_train, y_train, epochs=6,\n",
        "                    validation_data=(X_valid, y_valid))"
      ],
      "id": "45t1jRmyawso",
      "execution_count": 79,
      "outputs": [
        {
          "output_type": "stream",
          "text": [
            "Epoch 1/6\n",
            "35/35 [==============================] - 0s 5ms/step - loss: 0.6189 - val_loss: 0.0312\n",
            "Epoch 2/6\n",
            "35/35 [==============================] - 0s 2ms/step - loss: 0.0111 - val_loss: 0.0021\n",
            "Epoch 3/6\n",
            "35/35 [==============================] - 0s 2ms/step - loss: 0.0031 - val_loss: 0.0017\n",
            "Epoch 4/6\n",
            "35/35 [==============================] - 0s 3ms/step - loss: 0.0025 - val_loss: 0.0017\n",
            "Epoch 5/6\n",
            "35/35 [==============================] - 0s 2ms/step - loss: 0.0025 - val_loss: 0.0017\n",
            "Epoch 6/6\n",
            "35/35 [==============================] - 0s 3ms/step - loss: 0.0025 - val_loss: 0.0017\n"
          ],
          "name": "stdout"
        }
      ]
    },
    {
      "cell_type": "code",
      "metadata": {
        "id": "jsNfzFUaEwKY"
      },
      "source": [
        ""
      ],
      "id": "jsNfzFUaEwKY",
      "execution_count": 79,
      "outputs": []
    },
    {
      "cell_type": "code",
      "metadata": {
        "id": "5n8ew6EZZVgJ"
      },
      "source": [
        "# Deep RNN\n",
        "model = keras.models.Sequential([\n",
        "  keras.layers.LSTM(128, return_sequences=True, input_shape=[None, 1]),\n",
        "    keras.layers.LSTM(128, return_sequences=True),\n",
        "    keras.layers.LSTM(1)\n",
        "    #This gives us 2 hidden layers and 1 layer at the end (the final number!. return_sequences=true ensures it passes the entire time series along at each layer)\n",
        "])"
      ],
      "id": "5n8ew6EZZVgJ",
      "execution_count": 80,
      "outputs": []
    },
    {
      "cell_type": "code",
      "metadata": {
        "colab": {
          "base_uri": "https://localhost:8080/"
        },
        "id": "XhpLLmDHazkS",
        "outputId": "2eb47af6-1fc0-40d9-8a5b-28133fab7951"
      },
      "source": [
        "model.summary()"
      ],
      "id": "XhpLLmDHazkS",
      "execution_count": 81,
      "outputs": [
        {
          "output_type": "stream",
          "text": [
            "Model: \"sequential_4\"\n",
            "_________________________________________________________________\n",
            "Layer (type)                 Output Shape              Param #   \n",
            "=================================================================\n",
            "lstm_3 (LSTM)                (None, None, 128)         66560     \n",
            "_________________________________________________________________\n",
            "lstm_4 (LSTM)                (None, None, 128)         131584    \n",
            "_________________________________________________________________\n",
            "lstm_5 (LSTM)                (None, 1)                 520       \n",
            "=================================================================\n",
            "Total params: 198,664\n",
            "Trainable params: 198,664\n",
            "Non-trainable params: 0\n",
            "_________________________________________________________________\n"
          ],
          "name": "stdout"
        }
      ]
    },
    {
      "cell_type": "code",
      "metadata": {
        "colab": {
          "base_uri": "https://localhost:8080/"
        },
        "id": "TIneirXda7z3",
        "outputId": "7e1e03fa-7a55-40c4-dd1d-2541ef74837c"
      },
      "source": [
        "# We tried up to 20 epochs but the model started to exhibit signs of overfitting (training loss < validation loss) so we decided to stop at 6.\n",
        "model.compile(loss=tf.keras.losses.mean_squared_error, optimizer=\"adam\")\n",
        "history = model.fit(X_train, y_train, epochs=6,\n",
        "                    validation_data=(X_valid, y_valid))"
      ],
      "id": "TIneirXda7z3",
      "execution_count": 82,
      "outputs": [
        {
          "output_type": "stream",
          "text": [
            "Epoch 1/6\n",
            "35/35 [==============================] - 4s 34ms/step - loss: 0.2737 - val_loss: 0.0856\n",
            "Epoch 2/6\n",
            "35/35 [==============================] - 0s 11ms/step - loss: 0.1960 - val_loss: 0.0835\n",
            "Epoch 3/6\n",
            "35/35 [==============================] - 0s 10ms/step - loss: 0.1944 - val_loss: 0.0830\n",
            "Epoch 4/6\n",
            "35/35 [==============================] - 0s 10ms/step - loss: 0.1941 - val_loss: 0.0830\n",
            "Epoch 5/6\n",
            "35/35 [==============================] - 0s 11ms/step - loss: 0.1941 - val_loss: 0.0830\n",
            "Epoch 6/6\n",
            "35/35 [==============================] - 0s 10ms/step - loss: 0.1941 - val_loss: 0.0829\n"
          ],
          "name": "stdout"
        }
      ]
    },
    {
      "cell_type": "code",
      "metadata": {
        "colab": {
          "base_uri": "https://localhost:8080/"
        },
        "id": "g3pYPeoFbDHQ",
        "outputId": "3022f8c2-287f-465b-9c13-87aceb4e76af"
      },
      "source": [
        "model.evaluate(X_valid, y_valid)\n",
        "# we want our loss function to be as close to 0 as possible.\n",
        "# The MSE below is about 0.08. A lot better than that of the simple linear regression model."
      ],
      "id": "g3pYPeoFbDHQ",
      "execution_count": 83,
      "outputs": [
        {
          "output_type": "stream",
          "text": [
            "7/7 [==============================] - 0s 4ms/step - loss: 0.0829\n"
          ],
          "name": "stdout"
        },
        {
          "output_type": "execute_result",
          "data": {
            "text/plain": [
              "0.08292609453201294"
            ]
          },
          "metadata": {
            "tags": []
          },
          "execution_count": 83
        }
      ]
    },
    {
      "cell_type": "code",
      "metadata": {
        "id": "9MG8l1wuoB8z"
      },
      "source": [
        "model.save(\"bedroom3_trained.hdf5\")"
      ],
      "id": "9MG8l1wuoB8z",
      "execution_count": 84,
      "outputs": []
    },
    {
      "cell_type": "code",
      "metadata": {
        "colab": {
          "base_uri": "https://localhost:8080/"
        },
        "id": "rzMNYNoov-M8",
        "outputId": "28839ad5-0e07-48c1-b24a-1db1b4068ca8"
      },
      "source": [
        "X_train[:,1:,:].shape"
      ],
      "id": "rzMNYNoov-M8",
      "execution_count": 85,
      "outputs": [
        {
          "output_type": "execute_result",
          "data": {
            "text/plain": [
              "(1100, 35, 1)"
            ]
          },
          "metadata": {
            "tags": []
          },
          "execution_count": 85
        }
      ]
    },
    {
      "cell_type": "code",
      "metadata": {
        "colab": {
          "base_uri": "https://localhost:8080/"
        },
        "id": "57pqbf9OTL-k",
        "outputId": "321960cd-44ea-40b8-b0ae-79914a844dd9"
      },
      "source": [
        "y_train[:,].shape"
      ],
      "id": "57pqbf9OTL-k",
      "execution_count": 86,
      "outputs": [
        {
          "output_type": "execute_result",
          "data": {
            "text/plain": [
              "(1100, 1)"
            ]
          },
          "metadata": {
            "tags": []
          },
          "execution_count": 86
        }
      ]
    },
    {
      "cell_type": "code",
      "metadata": {
        "colab": {
          "base_uri": "https://localhost:8080/"
        },
        "id": "Gf5wRxqgQ16L",
        "outputId": "acdab014-b754-4cb2-8383-0f552735281a"
      },
      "source": [
        "# Model evaluations\n",
        "model.evaluate(X_train,y_train)"
      ],
      "id": "Gf5wRxqgQ16L",
      "execution_count": 87,
      "outputs": [
        {
          "output_type": "stream",
          "text": [
            "35/35 [==============================] - 0s 5ms/step - loss: 0.1940\n"
          ],
          "name": "stdout"
        },
        {
          "output_type": "execute_result",
          "data": {
            "text/plain": [
              "0.19401656091213226"
            ]
          },
          "metadata": {
            "tags": []
          },
          "execution_count": 87
        }
      ]
    },
    {
      "cell_type": "code",
      "metadata": {
        "colab": {
          "base_uri": "https://localhost:8080/"
        },
        "id": "-yZSEpeqQ2HG",
        "outputId": "eebfa1a9-61c6-4f07-9ed1-7eeb5d3ede7e"
      },
      "source": [
        "model.evaluate(X_valid,y_valid)"
      ],
      "id": "-yZSEpeqQ2HG",
      "execution_count": 88,
      "outputs": [
        {
          "output_type": "stream",
          "text": [
            "7/7 [==============================] - 0s 5ms/step - loss: 0.0829\n"
          ],
          "name": "stdout"
        },
        {
          "output_type": "execute_result",
          "data": {
            "text/plain": [
              "0.08292609453201294"
            ]
          },
          "metadata": {
            "tags": []
          },
          "execution_count": 88
        }
      ]
    },
    {
      "cell_type": "code",
      "metadata": {
        "colab": {
          "base_uri": "https://localhost:8080/"
        },
        "id": "DSlG7PjEQ2Q1",
        "outputId": "b99da29b-7110-4e76-d29f-f1c71bcd18ae"
      },
      "source": [
        "model.evaluate(X_test,y_test)"
      ],
      "id": "DSlG7PjEQ2Q1",
      "execution_count": 89,
      "outputs": [
        {
          "output_type": "stream",
          "text": [
            "12/12 [==============================] - 0s 5ms/step - loss: 0.0634\n"
          ],
          "name": "stdout"
        },
        {
          "output_type": "execute_result",
          "data": {
            "text/plain": [
              "0.06344316899776459"
            ]
          },
          "metadata": {
            "tags": []
          },
          "execution_count": 89
        }
      ]
    },
    {
      "cell_type": "code",
      "metadata": {
        "id": "Cxd3AHRhTV7F"
      },
      "source": [
        "# X_train: Use expand_dims in order to give the y_train an extra dimension.\n",
        "x_train_pred = np.concatenate((X_train[:,1:,:],np.expand_dims(y_train,-1)),axis=1)"
      ],
      "id": "Cxd3AHRhTV7F",
      "execution_count": 90,
      "outputs": []
    },
    {
      "cell_type": "code",
      "metadata": {
        "colab": {
          "base_uri": "https://localhost:8080/"
        },
        "id": "Bb_u__i3Kh3D",
        "outputId": "da6969ca-83c1-4841-c12f-1b7153be9630"
      },
      "source": [
        "# build y_train prediction\n",
        "y_train_pred = model.predict(x_train_pred)\n",
        "y_train_pred.shape"
      ],
      "id": "Bb_u__i3Kh3D",
      "execution_count": 91,
      "outputs": [
        {
          "output_type": "execute_result",
          "data": {
            "text/plain": [
              "(1100, 1)"
            ]
          },
          "metadata": {
            "tags": []
          },
          "execution_count": 91
        }
      ]
    },
    {
      "cell_type": "code",
      "metadata": {
        "id": "DOFaf0I1-BaS"
      },
      "source": [
        "# X_valid: Use expand_dims in order to give the y_train an extra dimension.\n",
        "x_valid_pred = np.concatenate((X_valid[:,1:,:],np.expand_dims(y_valid,-1)),axis=1)"
      ],
      "id": "DOFaf0I1-BaS",
      "execution_count": 92,
      "outputs": []
    },
    {
      "cell_type": "code",
      "metadata": {
        "colab": {
          "base_uri": "https://localhost:8080/"
        },
        "id": "CRfLKTEJLVT3",
        "outputId": "bd8037b9-31c9-4dee-8663-1fa092141a6b"
      },
      "source": [
        "# build y_valid prediction\n",
        "y_valid_pred = model.predict(x_valid_pred)\n",
        "y_valid_pred.shape"
      ],
      "id": "CRfLKTEJLVT3",
      "execution_count": 93,
      "outputs": [
        {
          "output_type": "execute_result",
          "data": {
            "text/plain": [
              "(200, 1)"
            ]
          },
          "metadata": {
            "tags": []
          },
          "execution_count": 93
        }
      ]
    },
    {
      "cell_type": "code",
      "metadata": {
        "id": "sXrt_LgTLmYM"
      },
      "source": [
        "# X_test: Use expand_dims in order to give the y_train an extra dimension.\n",
        "x_test_pred = np.concatenate((X_test[:,1:,:],np.expand_dims(y_test,-1)),axis=1)"
      ],
      "id": "sXrt_LgTLmYM",
      "execution_count": 94,
      "outputs": []
    },
    {
      "cell_type": "code",
      "metadata": {
        "colab": {
          "base_uri": "https://localhost:8080/"
        },
        "id": "e9TARL4WLnaY",
        "outputId": "97f67406-6df9-4f50-e4cb-2fc72f58b1d9"
      },
      "source": [
        "# build y_test prediction\n",
        "y_test_pred = model.predict(x_test_pred)\n",
        "y_test_pred.shape"
      ],
      "id": "e9TARL4WLnaY",
      "execution_count": 95,
      "outputs": [
        {
          "output_type": "execute_result",
          "data": {
            "text/plain": [
              "(372, 1)"
            ]
          },
          "metadata": {
            "tags": []
          },
          "execution_count": 95
        }
      ]
    },
    {
      "cell_type": "code",
      "metadata": {
        "id": "pwHWyqa6icob"
      },
      "source": [
        "\n"
      ],
      "id": "pwHWyqa6icob",
      "execution_count": 101,
      "outputs": []
    },
    {
      "cell_type": "code",
      "metadata": {
        "colab": {
          "base_uri": "https://localhost:8080/",
          "height": 422
        },
        "id": "9TF6-BIkN9Ms",
        "outputId": "2ca658a7-a2eb-4749-a41d-10b1da7cfad6"
      },
      "source": [
        "\n",
        "# concatenate all three y_pred series together and append them to the original data\n",
        "y_pred_all = np.concatenate((y_train_pred,y_valid_pred,y_test_pred),axis=0)\n",
        "y_pred_all_df = pd.DataFrame(y_pred_all).astype('float')\n",
        "y_pred_all_df*1000000\n",
        "\n",
        "# np.mean(scaler.inverse_transform(np.concatenate((y_pred_all,np.zeros((1714,303))),axis=1))[:,0])"
      ],
      "id": "9TF6-BIkN9Ms",
      "execution_count": 97,
      "outputs": [
        {
          "output_type": "execute_result",
          "data": {
            "text/html": [
              "<div>\n",
              "<style scoped>\n",
              "    .dataframe tbody tr th:only-of-type {\n",
              "        vertical-align: middle;\n",
              "    }\n",
              "\n",
              "    .dataframe tbody tr th {\n",
              "        vertical-align: top;\n",
              "    }\n",
              "\n",
              "    .dataframe thead th {\n",
              "        text-align: right;\n",
              "    }\n",
              "</style>\n",
              "<table border=\"1\" class=\"dataframe\">\n",
              "  <thead>\n",
              "    <tr style=\"text-align: right;\">\n",
              "      <th></th>\n",
              "      <th>0</th>\n",
              "    </tr>\n",
              "  </thead>\n",
              "  <tbody>\n",
              "    <tr>\n",
              "      <th>0</th>\n",
              "      <td>999892.711639</td>\n",
              "    </tr>\n",
              "    <tr>\n",
              "      <th>1</th>\n",
              "      <td>792393.088341</td>\n",
              "    </tr>\n",
              "    <tr>\n",
              "      <th>2</th>\n",
              "      <td>490199.327469</td>\n",
              "    </tr>\n",
              "    <tr>\n",
              "      <th>3</th>\n",
              "      <td>999889.373779</td>\n",
              "    </tr>\n",
              "    <tr>\n",
              "      <th>4</th>\n",
              "      <td>999799.847603</td>\n",
              "    </tr>\n",
              "    <tr>\n",
              "      <th>...</th>\n",
              "      <td>...</td>\n",
              "    </tr>\n",
              "    <tr>\n",
              "      <th>1667</th>\n",
              "      <td>190054.684877</td>\n",
              "    </tr>\n",
              "    <tr>\n",
              "      <th>1668</th>\n",
              "      <td>999879.956245</td>\n",
              "    </tr>\n",
              "    <tr>\n",
              "      <th>1669</th>\n",
              "      <td>397790.074348</td>\n",
              "    </tr>\n",
              "    <tr>\n",
              "      <th>1670</th>\n",
              "      <td>290306.955576</td>\n",
              "    </tr>\n",
              "    <tr>\n",
              "      <th>1671</th>\n",
              "      <td>407818.198204</td>\n",
              "    </tr>\n",
              "  </tbody>\n",
              "</table>\n",
              "<p>1672 rows × 1 columns</p>\n",
              "</div>"
            ],
            "text/plain": [
              "                  0\n",
              "0     999892.711639\n",
              "1     792393.088341\n",
              "2     490199.327469\n",
              "3     999889.373779\n",
              "4     999799.847603\n",
              "...             ...\n",
              "1667  190054.684877\n",
              "1668  999879.956245\n",
              "1669  397790.074348\n",
              "1670  290306.955576\n",
              "1671  407818.198204\n",
              "\n",
              "[1672 rows x 1 columns]"
            ]
          },
          "metadata": {
            "tags": []
          },
          "execution_count": 97
        }
      ]
    },
    {
      "cell_type": "code",
      "metadata": {
        "id": "IXW3k-B_XWr6"
      },
      "source": [
        "sf_df['5/31/2021'] = y_pred_all_df[0].values"
      ],
      "id": "IXW3k-B_XWr6",
      "execution_count": 102,
      "outputs": []
    },
    {
      "cell_type": "code",
      "metadata": {
        "id": "tOHLIEXjSk_g"
      },
      "source": [
        "sf_df[\"max\"]=sf_df.iloc[:,0:-2].max(axis=1)"
      ],
      "id": "tOHLIEXjSk_g",
      "execution_count": 103,
      "outputs": []
    },
    {
      "cell_type": "code",
      "metadata": {
        "id": "KkBU-VaAfsEW"
      },
      "source": [
        "sf_df[\"min\"]=sf_df.iloc[:,0:-3].min(axis=1)\n"
      ],
      "id": "KkBU-VaAfsEW",
      "execution_count": 104,
      "outputs": []
    },
    {
      "cell_type": "code",
      "metadata": {
        "id": "O_4rJkKKSjIv"
      },
      "source": [
        "sf_df['5/31/2021_scaled'] = sf_df['5/31/2021']*(sf_df['max']-sf_df['min'])+sf_df['min']"
      ],
      "id": "O_4rJkKKSjIv",
      "execution_count": 105,
      "outputs": []
    },
    {
      "cell_type": "code",
      "metadata": {
        "id": "Emb5wV1ESjOX"
      },
      "source": [
        "sf_final_df = sf_df.drop(['max','min','5/31/2021'],axis=1)"
      ],
      "id": "Emb5wV1ESjOX",
      "execution_count": 106,
      "outputs": []
    },
    {
      "cell_type": "code",
      "metadata": {
        "colab": {
          "base_uri": "https://localhost:8080/",
          "height": 474
        },
        "id": "cJ7shgvHkFps",
        "outputId": "6bc9acd0-30b6-48d9-9aea-958f5d7a26f3"
      },
      "source": [
        "sf_final_df.rename(columns={'5/31/2021_scaled':'5/31/2021'},inplace=True)\n",
        "sf_final_df"
      ],
      "id": "cJ7shgvHkFps",
      "execution_count": 107,
      "outputs": [
        {
          "output_type": "execute_result",
          "data": {
            "text/html": [
              "<div>\n",
              "<style scoped>\n",
              "    .dataframe tbody tr th:only-of-type {\n",
              "        vertical-align: middle;\n",
              "    }\n",
              "\n",
              "    .dataframe tbody tr th {\n",
              "        vertical-align: top;\n",
              "    }\n",
              "\n",
              "    .dataframe thead th {\n",
              "        text-align: right;\n",
              "    }\n",
              "</style>\n",
              "<table border=\"1\" class=\"dataframe\">\n",
              "  <thead>\n",
              "    <tr style=\"text-align: right;\">\n",
              "      <th></th>\n",
              "      <th>4/30/2018</th>\n",
              "      <th>5/31/2018</th>\n",
              "      <th>6/30/2018</th>\n",
              "      <th>7/31/2018</th>\n",
              "      <th>8/31/2018</th>\n",
              "      <th>9/30/2018</th>\n",
              "      <th>10/31/2018</th>\n",
              "      <th>11/30/2018</th>\n",
              "      <th>12/31/2018</th>\n",
              "      <th>1/31/2019</th>\n",
              "      <th>2/28/2019</th>\n",
              "      <th>3/31/2019</th>\n",
              "      <th>4/30/2019</th>\n",
              "      <th>5/31/2019</th>\n",
              "      <th>6/30/2019</th>\n",
              "      <th>7/31/2019</th>\n",
              "      <th>8/31/2019</th>\n",
              "      <th>9/30/2019</th>\n",
              "      <th>10/31/2019</th>\n",
              "      <th>11/30/2019</th>\n",
              "      <th>12/31/2019</th>\n",
              "      <th>1/31/2020</th>\n",
              "      <th>2/29/2020</th>\n",
              "      <th>3/31/2020</th>\n",
              "      <th>4/30/2020</th>\n",
              "      <th>5/31/2020</th>\n",
              "      <th>6/30/2020</th>\n",
              "      <th>7/31/2020</th>\n",
              "      <th>8/31/2020</th>\n",
              "      <th>9/30/2020</th>\n",
              "      <th>10/31/2020</th>\n",
              "      <th>11/30/2020</th>\n",
              "      <th>12/31/2020</th>\n",
              "      <th>1/31/2021</th>\n",
              "      <th>2/28/2021</th>\n",
              "      <th>3/31/2021</th>\n",
              "      <th>4/30/2021</th>\n",
              "      <th>5/31/2021</th>\n",
              "    </tr>\n",
              "    <tr>\n",
              "      <th>Zip</th>\n",
              "      <th></th>\n",
              "      <th></th>\n",
              "      <th></th>\n",
              "      <th></th>\n",
              "      <th></th>\n",
              "      <th></th>\n",
              "      <th></th>\n",
              "      <th></th>\n",
              "      <th></th>\n",
              "      <th></th>\n",
              "      <th></th>\n",
              "      <th></th>\n",
              "      <th></th>\n",
              "      <th></th>\n",
              "      <th></th>\n",
              "      <th></th>\n",
              "      <th></th>\n",
              "      <th></th>\n",
              "      <th></th>\n",
              "      <th></th>\n",
              "      <th></th>\n",
              "      <th></th>\n",
              "      <th></th>\n",
              "      <th></th>\n",
              "      <th></th>\n",
              "      <th></th>\n",
              "      <th></th>\n",
              "      <th></th>\n",
              "      <th></th>\n",
              "      <th></th>\n",
              "      <th></th>\n",
              "      <th></th>\n",
              "      <th></th>\n",
              "      <th></th>\n",
              "      <th></th>\n",
              "      <th></th>\n",
              "      <th></th>\n",
              "      <th></th>\n",
              "    </tr>\n",
              "  </thead>\n",
              "  <tbody>\n",
              "    <tr>\n",
              "      <th>94109</th>\n",
              "      <td>2130062</td>\n",
              "      <td>2131772</td>\n",
              "      <td>2135398</td>\n",
              "      <td>2139172</td>\n",
              "      <td>2139358</td>\n",
              "      <td>2130341</td>\n",
              "      <td>2134219</td>\n",
              "      <td>2134635</td>\n",
              "      <td>2130438</td>\n",
              "      <td>2144300</td>\n",
              "      <td>2154963</td>\n",
              "      <td>2163355</td>\n",
              "      <td>2153972</td>\n",
              "      <td>2158369</td>\n",
              "      <td>2168078</td>\n",
              "      <td>2166787</td>\n",
              "      <td>2158038</td>\n",
              "      <td>2151150</td>\n",
              "      <td>2160568</td>\n",
              "      <td>2169202</td>\n",
              "      <td>2182998</td>\n",
              "      <td>2180265</td>\n",
              "      <td>2184426</td>\n",
              "      <td>2173069</td>\n",
              "      <td>2164827</td>\n",
              "      <td>2144387</td>\n",
              "      <td>2125586</td>\n",
              "      <td>2118364</td>\n",
              "      <td>2115953</td>\n",
              "      <td>2114618</td>\n",
              "      <td>2094918</td>\n",
              "      <td>2077283</td>\n",
              "      <td>2058643</td>\n",
              "      <td>2045047</td>\n",
              "      <td>2025833.0</td>\n",
              "      <td>2015766.0</td>\n",
              "      <td>2010121</td>\n",
              "      <td>2.184192e+06</td>\n",
              "    </tr>\n",
              "    <tr>\n",
              "      <th>90250</th>\n",
              "      <td>637867</td>\n",
              "      <td>641904</td>\n",
              "      <td>645149</td>\n",
              "      <td>648845</td>\n",
              "      <td>650768</td>\n",
              "      <td>652322</td>\n",
              "      <td>654350</td>\n",
              "      <td>656754</td>\n",
              "      <td>657787</td>\n",
              "      <td>658057</td>\n",
              "      <td>655964</td>\n",
              "      <td>654376</td>\n",
              "      <td>654724</td>\n",
              "      <td>659269</td>\n",
              "      <td>664799</td>\n",
              "      <td>666600</td>\n",
              "      <td>666931</td>\n",
              "      <td>667107</td>\n",
              "      <td>668811</td>\n",
              "      <td>671153</td>\n",
              "      <td>676863</td>\n",
              "      <td>683360</td>\n",
              "      <td>690762</td>\n",
              "      <td>697138</td>\n",
              "      <td>702236</td>\n",
              "      <td>704001</td>\n",
              "      <td>704895</td>\n",
              "      <td>710043</td>\n",
              "      <td>717811</td>\n",
              "      <td>726563</td>\n",
              "      <td>734725</td>\n",
              "      <td>742269</td>\n",
              "      <td>748281</td>\n",
              "      <td>754554</td>\n",
              "      <td>762051.0</td>\n",
              "      <td>770630.0</td>\n",
              "      <td>780450</td>\n",
              "      <td>6.184234e+05</td>\n",
              "    </tr>\n",
              "    <tr>\n",
              "      <th>94565</th>\n",
              "      <td>392917</td>\n",
              "      <td>396119</td>\n",
              "      <td>400856</td>\n",
              "      <td>409441</td>\n",
              "      <td>413240</td>\n",
              "      <td>418477</td>\n",
              "      <td>421064</td>\n",
              "      <td>423545</td>\n",
              "      <td>423693</td>\n",
              "      <td>421847</td>\n",
              "      <td>420788</td>\n",
              "      <td>419370</td>\n",
              "      <td>419810</td>\n",
              "      <td>421232</td>\n",
              "      <td>422359</td>\n",
              "      <td>421912</td>\n",
              "      <td>420045</td>\n",
              "      <td>418675</td>\n",
              "      <td>420082</td>\n",
              "      <td>423965</td>\n",
              "      <td>427659</td>\n",
              "      <td>428772</td>\n",
              "      <td>429495</td>\n",
              "      <td>432760</td>\n",
              "      <td>435766</td>\n",
              "      <td>435831</td>\n",
              "      <td>435292</td>\n",
              "      <td>435959</td>\n",
              "      <td>440377</td>\n",
              "      <td>443844</td>\n",
              "      <td>446910</td>\n",
              "      <td>447582</td>\n",
              "      <td>450126</td>\n",
              "      <td>455255</td>\n",
              "      <td>461604.0</td>\n",
              "      <td>466804.0</td>\n",
              "      <td>472311</td>\n",
              "      <td>2.315268e+05</td>\n",
              "    </tr>\n",
              "    <tr>\n",
              "      <th>90046</th>\n",
              "      <td>1760877</td>\n",
              "      <td>1755089</td>\n",
              "      <td>1749264</td>\n",
              "      <td>1743263</td>\n",
              "      <td>1741232</td>\n",
              "      <td>1737003</td>\n",
              "      <td>1741506</td>\n",
              "      <td>1748692</td>\n",
              "      <td>1751007</td>\n",
              "      <td>1749466</td>\n",
              "      <td>1740172</td>\n",
              "      <td>1734127</td>\n",
              "      <td>1734441</td>\n",
              "      <td>1746624</td>\n",
              "      <td>1756632</td>\n",
              "      <td>1743672</td>\n",
              "      <td>1730411</td>\n",
              "      <td>1724719</td>\n",
              "      <td>1740202</td>\n",
              "      <td>1749452</td>\n",
              "      <td>1759038</td>\n",
              "      <td>1762758</td>\n",
              "      <td>1775206</td>\n",
              "      <td>1787169</td>\n",
              "      <td>1798453</td>\n",
              "      <td>1804152</td>\n",
              "      <td>1811637</td>\n",
              "      <td>1839589</td>\n",
              "      <td>1866046</td>\n",
              "      <td>1887115</td>\n",
              "      <td>1888088</td>\n",
              "      <td>1891790</td>\n",
              "      <td>1898806</td>\n",
              "      <td>1912399</td>\n",
              "      <td>1923580.0</td>\n",
              "      <td>1933774.0</td>\n",
              "      <td>1943551</td>\n",
              "      <td>1.943336e+06</td>\n",
              "    </tr>\n",
              "    <tr>\n",
              "      <th>94501</th>\n",
              "      <td>1115313</td>\n",
              "      <td>1125495</td>\n",
              "      <td>1130851</td>\n",
              "      <td>1124806</td>\n",
              "      <td>1121445</td>\n",
              "      <td>1112080</td>\n",
              "      <td>1114016</td>\n",
              "      <td>1111794</td>\n",
              "      <td>1104156</td>\n",
              "      <td>1092689</td>\n",
              "      <td>1085696</td>\n",
              "      <td>1089607</td>\n",
              "      <td>1097451</td>\n",
              "      <td>1110845</td>\n",
              "      <td>1122726</td>\n",
              "      <td>1136498</td>\n",
              "      <td>1137035</td>\n",
              "      <td>1138896</td>\n",
              "      <td>1133375</td>\n",
              "      <td>1131725</td>\n",
              "      <td>1140375</td>\n",
              "      <td>1159703</td>\n",
              "      <td>1170607</td>\n",
              "      <td>1173932</td>\n",
              "      <td>1167793</td>\n",
              "      <td>1162050</td>\n",
              "      <td>1156972</td>\n",
              "      <td>1158776</td>\n",
              "      <td>1170960</td>\n",
              "      <td>1185568</td>\n",
              "      <td>1202986</td>\n",
              "      <td>1220271</td>\n",
              "      <td>1233379</td>\n",
              "      <td>1241969</td>\n",
              "      <td>1258359.0</td>\n",
              "      <td>1279471.0</td>\n",
              "      <td>1309172</td>\n",
              "      <td>1.308910e+06</td>\n",
              "    </tr>\n",
              "    <tr>\n",
              "      <th>...</th>\n",
              "      <td>...</td>\n",
              "      <td>...</td>\n",
              "      <td>...</td>\n",
              "      <td>...</td>\n",
              "      <td>...</td>\n",
              "      <td>...</td>\n",
              "      <td>...</td>\n",
              "      <td>...</td>\n",
              "      <td>...</td>\n",
              "      <td>...</td>\n",
              "      <td>...</td>\n",
              "      <td>...</td>\n",
              "      <td>...</td>\n",
              "      <td>...</td>\n",
              "      <td>...</td>\n",
              "      <td>...</td>\n",
              "      <td>...</td>\n",
              "      <td>...</td>\n",
              "      <td>...</td>\n",
              "      <td>...</td>\n",
              "      <td>...</td>\n",
              "      <td>...</td>\n",
              "      <td>...</td>\n",
              "      <td>...</td>\n",
              "      <td>...</td>\n",
              "      <td>...</td>\n",
              "      <td>...</td>\n",
              "      <td>...</td>\n",
              "      <td>...</td>\n",
              "      <td>...</td>\n",
              "      <td>...</td>\n",
              "      <td>...</td>\n",
              "      <td>...</td>\n",
              "      <td>...</td>\n",
              "      <td>...</td>\n",
              "      <td>...</td>\n",
              "      <td>...</td>\n",
              "      <td>...</td>\n",
              "    </tr>\n",
              "    <tr>\n",
              "      <th>96061</th>\n",
              "      <td>164161</td>\n",
              "      <td>163357</td>\n",
              "      <td>167332</td>\n",
              "      <td>173144</td>\n",
              "      <td>175435</td>\n",
              "      <td>175222</td>\n",
              "      <td>174212</td>\n",
              "      <td>173614</td>\n",
              "      <td>174211</td>\n",
              "      <td>173725</td>\n",
              "      <td>172350</td>\n",
              "      <td>173860</td>\n",
              "      <td>180430</td>\n",
              "      <td>185170</td>\n",
              "      <td>184101</td>\n",
              "      <td>179120</td>\n",
              "      <td>177139</td>\n",
              "      <td>175266</td>\n",
              "      <td>177098</td>\n",
              "      <td>178151</td>\n",
              "      <td>179726</td>\n",
              "      <td>181576</td>\n",
              "      <td>182965</td>\n",
              "      <td>180988</td>\n",
              "      <td>175401</td>\n",
              "      <td>170884</td>\n",
              "      <td>171041</td>\n",
              "      <td>172415</td>\n",
              "      <td>173207</td>\n",
              "      <td>175204</td>\n",
              "      <td>174313</td>\n",
              "      <td>173828</td>\n",
              "      <td>172530</td>\n",
              "      <td>171691</td>\n",
              "      <td>171934.0</td>\n",
              "      <td>173847.0</td>\n",
              "      <td>176713</td>\n",
              "      <td>3.519258e+04</td>\n",
              "    </tr>\n",
              "    <tr>\n",
              "      <th>95141</th>\n",
              "      <td>1549016</td>\n",
              "      <td>1554726</td>\n",
              "      <td>1585995</td>\n",
              "      <td>1612896</td>\n",
              "      <td>1606926</td>\n",
              "      <td>1569308</td>\n",
              "      <td>1549706</td>\n",
              "      <td>1535600</td>\n",
              "      <td>1530033</td>\n",
              "      <td>1512214</td>\n",
              "      <td>1497636</td>\n",
              "      <td>1471459</td>\n",
              "      <td>1440469</td>\n",
              "      <td>1433246</td>\n",
              "      <td>1422915</td>\n",
              "      <td>1449687</td>\n",
              "      <td>1457629</td>\n",
              "      <td>1467044</td>\n",
              "      <td>1461778</td>\n",
              "      <td>1460032</td>\n",
              "      <td>1479644</td>\n",
              "      <td>1487025</td>\n",
              "      <td>1503856</td>\n",
              "      <td>1532086</td>\n",
              "      <td>1559189</td>\n",
              "      <td>1559894</td>\n",
              "      <td>1544224</td>\n",
              "      <td>1516036</td>\n",
              "      <td>1518160</td>\n",
              "      <td>1532945</td>\n",
              "      <td>1549706</td>\n",
              "      <td>1563216</td>\n",
              "      <td>1557214</td>\n",
              "      <td>1566024</td>\n",
              "      <td>1565155.0</td>\n",
              "      <td>1562574.0</td>\n",
              "      <td>1567172</td>\n",
              "      <td>1.612702e+06</td>\n",
              "    </tr>\n",
              "    <tr>\n",
              "      <th>95375</th>\n",
              "      <td>379047</td>\n",
              "      <td>379571</td>\n",
              "      <td>380384</td>\n",
              "      <td>377313</td>\n",
              "      <td>370428</td>\n",
              "      <td>364516</td>\n",
              "      <td>363329</td>\n",
              "      <td>363124</td>\n",
              "      <td>361476</td>\n",
              "      <td>362687</td>\n",
              "      <td>365135</td>\n",
              "      <td>368640</td>\n",
              "      <td>369855</td>\n",
              "      <td>364140</td>\n",
              "      <td>357016</td>\n",
              "      <td>349639</td>\n",
              "      <td>354366</td>\n",
              "      <td>359951</td>\n",
              "      <td>365114</td>\n",
              "      <td>364875</td>\n",
              "      <td>365615</td>\n",
              "      <td>365970</td>\n",
              "      <td>364843</td>\n",
              "      <td>362573</td>\n",
              "      <td>359499</td>\n",
              "      <td>360196</td>\n",
              "      <td>361678</td>\n",
              "      <td>365555</td>\n",
              "      <td>363283</td>\n",
              "      <td>360785</td>\n",
              "      <td>358423</td>\n",
              "      <td>359845</td>\n",
              "      <td>361620</td>\n",
              "      <td>363875</td>\n",
              "      <td>367284.0</td>\n",
              "      <td>371691.0</td>\n",
              "      <td>377706</td>\n",
              "      <td>1.513132e+05</td>\n",
              "    </tr>\n",
              "    <tr>\n",
              "      <th>95229</th>\n",
              "      <td>242119</td>\n",
              "      <td>246230</td>\n",
              "      <td>247216</td>\n",
              "      <td>245381</td>\n",
              "      <td>242674</td>\n",
              "      <td>244402</td>\n",
              "      <td>245787</td>\n",
              "      <td>248844</td>\n",
              "      <td>251526</td>\n",
              "      <td>253888</td>\n",
              "      <td>256170</td>\n",
              "      <td>255966</td>\n",
              "      <td>254639</td>\n",
              "      <td>250242</td>\n",
              "      <td>247981</td>\n",
              "      <td>248396</td>\n",
              "      <td>250942</td>\n",
              "      <td>251477</td>\n",
              "      <td>249520</td>\n",
              "      <td>247840</td>\n",
              "      <td>248413</td>\n",
              "      <td>248511</td>\n",
              "      <td>251205</td>\n",
              "      <td>251223</td>\n",
              "      <td>253091</td>\n",
              "      <td>254695</td>\n",
              "      <td>256704</td>\n",
              "      <td>258205</td>\n",
              "      <td>258550</td>\n",
              "      <td>259954</td>\n",
              "      <td>264473</td>\n",
              "      <td>268591</td>\n",
              "      <td>271195</td>\n",
              "      <td>274563</td>\n",
              "      <td>276419.0</td>\n",
              "      <td>281760.0</td>\n",
              "      <td>286305</td>\n",
              "      <td>8.311654e+04</td>\n",
              "    </tr>\n",
              "    <tr>\n",
              "      <th>95721</th>\n",
              "      <td>324236</td>\n",
              "      <td>325198</td>\n",
              "      <td>326067</td>\n",
              "      <td>327598</td>\n",
              "      <td>330734</td>\n",
              "      <td>335400</td>\n",
              "      <td>336298</td>\n",
              "      <td>341352</td>\n",
              "      <td>352422</td>\n",
              "      <td>362609</td>\n",
              "      <td>366357</td>\n",
              "      <td>368605</td>\n",
              "      <td>367840</td>\n",
              "      <td>375203</td>\n",
              "      <td>380554</td>\n",
              "      <td>380812</td>\n",
              "      <td>372512</td>\n",
              "      <td>360778</td>\n",
              "      <td>356791</td>\n",
              "      <td>356868</td>\n",
              "      <td>354808</td>\n",
              "      <td>354894</td>\n",
              "      <td>351955</td>\n",
              "      <td>352066</td>\n",
              "      <td>349895</td>\n",
              "      <td>348338</td>\n",
              "      <td>346964</td>\n",
              "      <td>349928</td>\n",
              "      <td>358524</td>\n",
              "      <td>369372</td>\n",
              "      <td>377527</td>\n",
              "      <td>382232</td>\n",
              "      <td>387354</td>\n",
              "      <td>392724</td>\n",
              "      <td>405120.0</td>\n",
              "      <td>417377.0</td>\n",
              "      <td>433512</td>\n",
              "      <td>1.767943e+05</td>\n",
              "    </tr>\n",
              "  </tbody>\n",
              "</table>\n",
              "<p>1672 rows × 38 columns</p>\n",
              "</div>"
            ],
            "text/plain": [
              "       4/30/2018  5/31/2018  6/30/2018  ...  3/31/2021  4/30/2021     5/31/2021\n",
              "Zip                                     ...                                    \n",
              "94109    2130062    2131772    2135398  ...  2015766.0    2010121  2.184192e+06\n",
              "90250     637867     641904     645149  ...   770630.0     780450  6.184234e+05\n",
              "94565     392917     396119     400856  ...   466804.0     472311  2.315268e+05\n",
              "90046    1760877    1755089    1749264  ...  1933774.0    1943551  1.943336e+06\n",
              "94501    1115313    1125495    1130851  ...  1279471.0    1309172  1.308910e+06\n",
              "...          ...        ...        ...  ...        ...        ...           ...\n",
              "96061     164161     163357     167332  ...   173847.0     176713  3.519258e+04\n",
              "95141    1549016    1554726    1585995  ...  1562574.0    1567172  1.612702e+06\n",
              "95375     379047     379571     380384  ...   371691.0     377706  1.513132e+05\n",
              "95229     242119     246230     247216  ...   281760.0     286305  8.311654e+04\n",
              "95721     324236     325198     326067  ...   417377.0     433512  1.767943e+05\n",
              "\n",
              "[1672 rows x 38 columns]"
            ]
          },
          "metadata": {
            "tags": []
          },
          "execution_count": 107
        }
      ]
    },
    {
      "cell_type": "code",
      "metadata": {
        "id": "mvmayudwVQrZ"
      },
      "source": [
        "sf_final_df.to_csv('bedroom3_final_predicted_3yr.csv',index=True)"
      ],
      "id": "mvmayudwVQrZ",
      "execution_count": 108,
      "outputs": []
    },
    {
      "cell_type": "code",
      "metadata": {
        "id": "mJwzQKBULlZ9"
      },
      "source": [
        ""
      ],
      "id": "mJwzQKBULlZ9",
      "execution_count": null,
      "outputs": []
    },
    {
      "cell_type": "code",
      "metadata": {
        "id": "0FUpTls2VYse"
      },
      "source": [
        ""
      ],
      "id": "0FUpTls2VYse",
      "execution_count": null,
      "outputs": []
    },
    {
      "cell_type": "code",
      "metadata": {
        "id": "yYbGbokxVeIg"
      },
      "source": [
        ""
      ],
      "id": "yYbGbokxVeIg",
      "execution_count": null,
      "outputs": []
    },
    {
      "cell_type": "code",
      "metadata": {
        "id": "SSQIbhz5LeHy"
      },
      "source": [
        ""
      ],
      "id": "SSQIbhz5LeHy",
      "execution_count": null,
      "outputs": []
    }
  ]
}