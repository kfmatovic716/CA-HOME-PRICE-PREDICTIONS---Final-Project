{
  "nbformat": 4,
  "nbformat_minor": 5,
  "metadata": {
    "kernelspec": {
      "display_name": "Python 3",
      "language": "python",
      "name": "python3"
    },
    "language_info": {
      "codemirror_mode": {
        "name": "ipython",
        "version": 3
      },
      "file_extension": ".py",
      "mimetype": "text/x-python",
      "name": "python",
      "nbconvert_exporter": "python",
      "pygments_lexer": "ipython3",
      "version": "3.8.10"
    },
    "colab": {
      "name": "ML_test CA_060921.ipynb",
      "provenance": [],
      "collapsed_sections": []
    },
    "accelerator": "GPU"
  },
  "cells": [
    {
      "cell_type": "code",
      "metadata": {
        "id": "b0ce7404-a95a-4d1e-ac52-7b483d9fe427"
      },
      "source": [
        "# NB. Run this in Google colab NOT Jupyter lab.  https://colab.research.google.com/notebooks/intro.ipynb?utm_source=scs-index#recent=true\n",
        "# Python ≥3.5 is required\n",
        "import sys\n",
        "assert sys.version_info >= (3, 5)\n",
        "\n",
        "# Is this notebook running on Colab or Kaggle?\n",
        "IS_COLAB = \"google.colab\" in sys.modules\n",
        "IS_KAGGLE = \"kaggle_secrets\" in sys.modules\n",
        "\n",
        "# Scikit-Learn ≥0.20 is required\n",
        "import sklearn\n",
        "assert sklearn.__version__ >= \"0.20\"\n",
        "\n",
        "# TensorFlow ≥2.0 is required\n",
        "import tensorflow as tf\n",
        "from tensorflow import keras\n",
        "assert tf.__version__ >= \"2.0\"\n",
        "\n",
        "if not tf.config.list_physical_devices('GPU'):\n",
        "    print(\"No GPU was detected. LSTMs and CNNs can be very slow without a GPU.\")\n",
        "    if IS_COLAB:\n",
        "        print(\"Go to Runtime > Change runtime and select a GPU hardware accelerator.\")\n",
        "    if IS_KAGGLE:\n",
        "        print(\"Go to Settings > Accelerator and select GPU.\")\n",
        "\n",
        "# Common imports\n",
        "import numpy as np\n",
        "import os\n",
        "from pathlib import Path\n",
        "\n",
        "# to make this notebook's output stable across runs\n",
        "np.random.seed(42)\n",
        "tf.random.set_seed(42)\n",
        "\n",
        "# To plot pretty figures\n",
        "%matplotlib inline\n",
        "import matplotlib as mpl\n",
        "import matplotlib.pyplot as plt\n",
        "mpl.rc('axes', labelsize=14)\n",
        "mpl.rc('xtick', labelsize=12)\n",
        "mpl.rc('ytick', labelsize=12)\n",
        "\n",
        "# Where to save the figures\n",
        "PROJECT_ROOT_DIR = \".\"\n",
        "CHAPTER_ID = \"rnn\"\n",
        "IMAGES_PATH = os.path.join(PROJECT_ROOT_DIR, \"images\", CHAPTER_ID)\n",
        "os.makedirs(IMAGES_PATH, exist_ok=True)\n",
        "\n",
        "def save_fig(fig_id, tight_layout=True, fig_extension=\"png\", resolution=300):\n",
        "    path = os.path.join(IMAGES_PATH, fig_id + \".\" + fig_extension)\n",
        "    print(\"Saving figure\", fig_id)\n",
        "    if tight_layout:\n",
        "        plt.tight_layout()\n",
        "    plt.savefig(path, format=fig_extension, dpi=resolution)"
      ],
      "id": "b0ce7404-a95a-4d1e-ac52-7b483d9fe427",
      "execution_count": 1,
      "outputs": []
    },
    {
      "cell_type": "code",
      "metadata": {
        "id": "9785355a-8f83-4bfb-a58d-3e8f6d92cb48"
      },
      "source": [
        "# Import libraries\n",
        "import pandas as pd\n",
        "from tensorflow.keras.models import Sequential\n",
        "from tensorflow.keras.layers import Dense\n",
        "from sklearn.model_selection import train_test_split\n",
        "from sklearn.preprocessing import MinMaxScaler"
      ],
      "id": "9785355a-8f83-4bfb-a58d-3e8f6d92cb48",
      "execution_count": 2,
      "outputs": []
    },
    {
      "cell_type": "code",
      "metadata": {
        "id": "17302c80-77df-4551-9030-1847c7fa8778"
      },
      "source": [
        "sf_df = pd.read_csv('zillow_bedroom5_CA_3yr.csv',index_col=0)"
      ],
      "id": "17302c80-77df-4551-9030-1847c7fa8778",
      "execution_count": 218,
      "outputs": []
    },
    {
      "cell_type": "code",
      "metadata": {
        "colab": {
          "base_uri": "https://localhost:8080/",
          "height": 474
        },
        "id": "mFHYOLHzJM3e",
        "outputId": "b94046a8-f3b6-47cc-a067-a3956d163b04"
      },
      "source": [
        "# Make sure to set the zip codes down the rows\n",
        "sf_df"
      ],
      "id": "mFHYOLHzJM3e",
      "execution_count": 219,
      "outputs": [
        {
          "output_type": "execute_result",
          "data": {
            "text/html": [
              "<div>\n",
              "<style scoped>\n",
              "    .dataframe tbody tr th:only-of-type {\n",
              "        vertical-align: middle;\n",
              "    }\n",
              "\n",
              "    .dataframe tbody tr th {\n",
              "        vertical-align: top;\n",
              "    }\n",
              "\n",
              "    .dataframe thead th {\n",
              "        text-align: right;\n",
              "    }\n",
              "</style>\n",
              "<table border=\"1\" class=\"dataframe\">\n",
              "  <thead>\n",
              "    <tr style=\"text-align: right;\">\n",
              "      <th></th>\n",
              "      <th>4/30/2018</th>\n",
              "      <th>5/31/2018</th>\n",
              "      <th>6/30/2018</th>\n",
              "      <th>7/31/2018</th>\n",
              "      <th>8/31/2018</th>\n",
              "      <th>9/30/2018</th>\n",
              "      <th>10/31/2018</th>\n",
              "      <th>11/30/2018</th>\n",
              "      <th>12/31/2018</th>\n",
              "      <th>1/31/2019</th>\n",
              "      <th>2/28/2019</th>\n",
              "      <th>3/31/2019</th>\n",
              "      <th>4/30/2019</th>\n",
              "      <th>5/31/2019</th>\n",
              "      <th>6/30/2019</th>\n",
              "      <th>7/31/2019</th>\n",
              "      <th>8/31/2019</th>\n",
              "      <th>9/30/2019</th>\n",
              "      <th>10/31/2019</th>\n",
              "      <th>11/30/2019</th>\n",
              "      <th>12/31/2019</th>\n",
              "      <th>1/31/2020</th>\n",
              "      <th>2/29/2020</th>\n",
              "      <th>3/31/2020</th>\n",
              "      <th>4/30/2020</th>\n",
              "      <th>5/31/2020</th>\n",
              "      <th>6/30/2020</th>\n",
              "      <th>7/31/2020</th>\n",
              "      <th>8/31/2020</th>\n",
              "      <th>9/30/2020</th>\n",
              "      <th>10/31/2020</th>\n",
              "      <th>11/30/2020</th>\n",
              "      <th>12/31/2020</th>\n",
              "      <th>1/31/2021</th>\n",
              "      <th>2/28/2021</th>\n",
              "      <th>3/31/2021</th>\n",
              "      <th>4/30/2021</th>\n",
              "    </tr>\n",
              "    <tr>\n",
              "      <th>Zip</th>\n",
              "      <th></th>\n",
              "      <th></th>\n",
              "      <th></th>\n",
              "      <th></th>\n",
              "      <th></th>\n",
              "      <th></th>\n",
              "      <th></th>\n",
              "      <th></th>\n",
              "      <th></th>\n",
              "      <th></th>\n",
              "      <th></th>\n",
              "      <th></th>\n",
              "      <th></th>\n",
              "      <th></th>\n",
              "      <th></th>\n",
              "      <th></th>\n",
              "      <th></th>\n",
              "      <th></th>\n",
              "      <th></th>\n",
              "      <th></th>\n",
              "      <th></th>\n",
              "      <th></th>\n",
              "      <th></th>\n",
              "      <th></th>\n",
              "      <th></th>\n",
              "      <th></th>\n",
              "      <th></th>\n",
              "      <th></th>\n",
              "      <th></th>\n",
              "      <th></th>\n",
              "      <th></th>\n",
              "      <th></th>\n",
              "      <th></th>\n",
              "      <th></th>\n",
              "      <th></th>\n",
              "      <th></th>\n",
              "      <th></th>\n",
              "    </tr>\n",
              "  </thead>\n",
              "  <tbody>\n",
              "    <tr>\n",
              "      <th>94109</th>\n",
              "      <td>6379815</td>\n",
              "      <td>6372370</td>\n",
              "      <td>6453549</td>\n",
              "      <td>6646063</td>\n",
              "      <td>6858885.0</td>\n",
              "      <td>7040450.0</td>\n",
              "      <td>7138660</td>\n",
              "      <td>7209044</td>\n",
              "      <td>7233256</td>\n",
              "      <td>7256251</td>\n",
              "      <td>7253773</td>\n",
              "      <td>7238719</td>\n",
              "      <td>7147916</td>\n",
              "      <td>7159196</td>\n",
              "      <td>7143733</td>\n",
              "      <td>7089125</td>\n",
              "      <td>6958825</td>\n",
              "      <td>6876351</td>\n",
              "      <td>6923347</td>\n",
              "      <td>7014985</td>\n",
              "      <td>7115640</td>\n",
              "      <td>7123492</td>\n",
              "      <td>7139285</td>\n",
              "      <td>7123600</td>\n",
              "      <td>7130102</td>\n",
              "      <td>7087990</td>\n",
              "      <td>7039456</td>\n",
              "      <td>6988472</td>\n",
              "      <td>6974954</td>\n",
              "      <td>6945728</td>\n",
              "      <td>6842997</td>\n",
              "      <td>6719730</td>\n",
              "      <td>6607319</td>\n",
              "      <td>6551546</td>\n",
              "      <td>6482623</td>\n",
              "      <td>6424487</td>\n",
              "      <td>6368435</td>\n",
              "    </tr>\n",
              "    <tr>\n",
              "      <th>90250</th>\n",
              "      <td>826841</td>\n",
              "      <td>834064</td>\n",
              "      <td>841843</td>\n",
              "      <td>844301</td>\n",
              "      <td>844994.0</td>\n",
              "      <td>845722.0</td>\n",
              "      <td>850598</td>\n",
              "      <td>854415</td>\n",
              "      <td>857588</td>\n",
              "      <td>861477</td>\n",
              "      <td>862517</td>\n",
              "      <td>862017</td>\n",
              "      <td>860705</td>\n",
              "      <td>864220</td>\n",
              "      <td>866996</td>\n",
              "      <td>867276</td>\n",
              "      <td>866198</td>\n",
              "      <td>867572</td>\n",
              "      <td>871361</td>\n",
              "      <td>873817</td>\n",
              "      <td>878428</td>\n",
              "      <td>882342</td>\n",
              "      <td>887838</td>\n",
              "      <td>892650</td>\n",
              "      <td>896521</td>\n",
              "      <td>898013</td>\n",
              "      <td>898998</td>\n",
              "      <td>906411</td>\n",
              "      <td>916184</td>\n",
              "      <td>925211</td>\n",
              "      <td>931792</td>\n",
              "      <td>940967</td>\n",
              "      <td>950004</td>\n",
              "      <td>960570</td>\n",
              "      <td>972802</td>\n",
              "      <td>987544</td>\n",
              "      <td>1005165</td>\n",
              "    </tr>\n",
              "    <tr>\n",
              "      <th>94565</th>\n",
              "      <td>698872</td>\n",
              "      <td>704223</td>\n",
              "      <td>711652</td>\n",
              "      <td>716646</td>\n",
              "      <td>715352.0</td>\n",
              "      <td>714243.0</td>\n",
              "      <td>715311</td>\n",
              "      <td>714716</td>\n",
              "      <td>712668</td>\n",
              "      <td>711763</td>\n",
              "      <td>707846</td>\n",
              "      <td>705333</td>\n",
              "      <td>704134</td>\n",
              "      <td>709428</td>\n",
              "      <td>709876</td>\n",
              "      <td>705802</td>\n",
              "      <td>699531</td>\n",
              "      <td>692898</td>\n",
              "      <td>692557</td>\n",
              "      <td>694779</td>\n",
              "      <td>702902</td>\n",
              "      <td>702409</td>\n",
              "      <td>700127</td>\n",
              "      <td>700486</td>\n",
              "      <td>706772</td>\n",
              "      <td>709537</td>\n",
              "      <td>711181</td>\n",
              "      <td>718536</td>\n",
              "      <td>731190</td>\n",
              "      <td>745042</td>\n",
              "      <td>754411</td>\n",
              "      <td>763344</td>\n",
              "      <td>769304</td>\n",
              "      <td>783152</td>\n",
              "      <td>801987</td>\n",
              "      <td>819777</td>\n",
              "      <td>834249</td>\n",
              "    </tr>\n",
              "    <tr>\n",
              "      <th>90046</th>\n",
              "      <td>3628712</td>\n",
              "      <td>3630834</td>\n",
              "      <td>3630330</td>\n",
              "      <td>3636156</td>\n",
              "      <td>3635452.0</td>\n",
              "      <td>3638526.0</td>\n",
              "      <td>3640032</td>\n",
              "      <td>3643168</td>\n",
              "      <td>3632873</td>\n",
              "      <td>3628540</td>\n",
              "      <td>3602360</td>\n",
              "      <td>3575449</td>\n",
              "      <td>3566593</td>\n",
              "      <td>3593074</td>\n",
              "      <td>3633782</td>\n",
              "      <td>3623346</td>\n",
              "      <td>3598804</td>\n",
              "      <td>3564265</td>\n",
              "      <td>3566690</td>\n",
              "      <td>3560471</td>\n",
              "      <td>3564233</td>\n",
              "      <td>3560556</td>\n",
              "      <td>3588587</td>\n",
              "      <td>3621087</td>\n",
              "      <td>3648268</td>\n",
              "      <td>3642742</td>\n",
              "      <td>3625196</td>\n",
              "      <td>3651188</td>\n",
              "      <td>3692995</td>\n",
              "      <td>3741758</td>\n",
              "      <td>3765527</td>\n",
              "      <td>3793417</td>\n",
              "      <td>3821094</td>\n",
              "      <td>3847993</td>\n",
              "      <td>3862779</td>\n",
              "      <td>3875901</td>\n",
              "      <td>3894969</td>\n",
              "    </tr>\n",
              "    <tr>\n",
              "      <th>94501</th>\n",
              "      <td>1479045</td>\n",
              "      <td>1499370</td>\n",
              "      <td>1503243</td>\n",
              "      <td>1487025</td>\n",
              "      <td>1474190.0</td>\n",
              "      <td>1461113.0</td>\n",
              "      <td>1468738</td>\n",
              "      <td>1471075</td>\n",
              "      <td>1470779</td>\n",
              "      <td>1464889</td>\n",
              "      <td>1461041</td>\n",
              "      <td>1460942</td>\n",
              "      <td>1462092</td>\n",
              "      <td>1473742</td>\n",
              "      <td>1491092</td>\n",
              "      <td>1518361</td>\n",
              "      <td>1529940</td>\n",
              "      <td>1543751</td>\n",
              "      <td>1540484</td>\n",
              "      <td>1541071</td>\n",
              "      <td>1551401</td>\n",
              "      <td>1574517</td>\n",
              "      <td>1591243</td>\n",
              "      <td>1602981</td>\n",
              "      <td>1604312</td>\n",
              "      <td>1602327</td>\n",
              "      <td>1598709</td>\n",
              "      <td>1603235</td>\n",
              "      <td>1619133</td>\n",
              "      <td>1633813</td>\n",
              "      <td>1654649</td>\n",
              "      <td>1675906</td>\n",
              "      <td>1693925</td>\n",
              "      <td>1705341</td>\n",
              "      <td>1724443</td>\n",
              "      <td>1748584</td>\n",
              "      <td>1783701</td>\n",
              "    </tr>\n",
              "    <tr>\n",
              "      <th>...</th>\n",
              "      <td>...</td>\n",
              "      <td>...</td>\n",
              "      <td>...</td>\n",
              "      <td>...</td>\n",
              "      <td>...</td>\n",
              "      <td>...</td>\n",
              "      <td>...</td>\n",
              "      <td>...</td>\n",
              "      <td>...</td>\n",
              "      <td>...</td>\n",
              "      <td>...</td>\n",
              "      <td>...</td>\n",
              "      <td>...</td>\n",
              "      <td>...</td>\n",
              "      <td>...</td>\n",
              "      <td>...</td>\n",
              "      <td>...</td>\n",
              "      <td>...</td>\n",
              "      <td>...</td>\n",
              "      <td>...</td>\n",
              "      <td>...</td>\n",
              "      <td>...</td>\n",
              "      <td>...</td>\n",
              "      <td>...</td>\n",
              "      <td>...</td>\n",
              "      <td>...</td>\n",
              "      <td>...</td>\n",
              "      <td>...</td>\n",
              "      <td>...</td>\n",
              "      <td>...</td>\n",
              "      <td>...</td>\n",
              "      <td>...</td>\n",
              "      <td>...</td>\n",
              "      <td>...</td>\n",
              "      <td>...</td>\n",
              "      <td>...</td>\n",
              "      <td>...</td>\n",
              "    </tr>\n",
              "    <tr>\n",
              "      <th>96108</th>\n",
              "      <td>333961</td>\n",
              "      <td>329784</td>\n",
              "      <td>327179</td>\n",
              "      <td>316030</td>\n",
              "      <td>309208.0</td>\n",
              "      <td>304812.0</td>\n",
              "      <td>302871</td>\n",
              "      <td>302861</td>\n",
              "      <td>303868</td>\n",
              "      <td>307165</td>\n",
              "      <td>311662</td>\n",
              "      <td>313365</td>\n",
              "      <td>310171</td>\n",
              "      <td>304618</td>\n",
              "      <td>302799</td>\n",
              "      <td>302926</td>\n",
              "      <td>303749</td>\n",
              "      <td>304218</td>\n",
              "      <td>306242</td>\n",
              "      <td>307374</td>\n",
              "      <td>305100</td>\n",
              "      <td>301875</td>\n",
              "      <td>301042</td>\n",
              "      <td>302872</td>\n",
              "      <td>307571</td>\n",
              "      <td>314595</td>\n",
              "      <td>320960</td>\n",
              "      <td>327275</td>\n",
              "      <td>331674</td>\n",
              "      <td>335272</td>\n",
              "      <td>336816</td>\n",
              "      <td>338240</td>\n",
              "      <td>341125</td>\n",
              "      <td>343607</td>\n",
              "      <td>343323</td>\n",
              "      <td>342830</td>\n",
              "      <td>340645</td>\n",
              "    </tr>\n",
              "    <tr>\n",
              "      <th>96115</th>\n",
              "      <td>172763</td>\n",
              "      <td>173451</td>\n",
              "      <td>173671</td>\n",
              "      <td>175060</td>\n",
              "      <td>176762.0</td>\n",
              "      <td>178368.0</td>\n",
              "      <td>181314</td>\n",
              "      <td>184435</td>\n",
              "      <td>188072</td>\n",
              "      <td>189543</td>\n",
              "      <td>190203</td>\n",
              "      <td>189720</td>\n",
              "      <td>191303</td>\n",
              "      <td>192365</td>\n",
              "      <td>194239</td>\n",
              "      <td>193764</td>\n",
              "      <td>195997</td>\n",
              "      <td>197292</td>\n",
              "      <td>197301</td>\n",
              "      <td>195067</td>\n",
              "      <td>193906</td>\n",
              "      <td>193651</td>\n",
              "      <td>193475</td>\n",
              "      <td>193263</td>\n",
              "      <td>191704</td>\n",
              "      <td>190682</td>\n",
              "      <td>189201</td>\n",
              "      <td>188850</td>\n",
              "      <td>187035</td>\n",
              "      <td>185930</td>\n",
              "      <td>185503</td>\n",
              "      <td>186565</td>\n",
              "      <td>186810</td>\n",
              "      <td>187659</td>\n",
              "      <td>188893</td>\n",
              "      <td>190710</td>\n",
              "      <td>192817</td>\n",
              "    </tr>\n",
              "    <tr>\n",
              "      <th>95715</th>\n",
              "      <td>932989</td>\n",
              "      <td>923634</td>\n",
              "      <td>914349</td>\n",
              "      <td>898167</td>\n",
              "      <td>890271.0</td>\n",
              "      <td>879903.0</td>\n",
              "      <td>877501</td>\n",
              "      <td>871895</td>\n",
              "      <td>859896</td>\n",
              "      <td>877335</td>\n",
              "      <td>901690</td>\n",
              "      <td>918674</td>\n",
              "      <td>918259</td>\n",
              "      <td>936528</td>\n",
              "      <td>954031</td>\n",
              "      <td>949574</td>\n",
              "      <td>929441</td>\n",
              "      <td>917519</td>\n",
              "      <td>909798</td>\n",
              "      <td>905828</td>\n",
              "      <td>908255</td>\n",
              "      <td>915671</td>\n",
              "      <td>920134</td>\n",
              "      <td>920040</td>\n",
              "      <td>924268</td>\n",
              "      <td>920922</td>\n",
              "      <td>922789</td>\n",
              "      <td>945472</td>\n",
              "      <td>974128</td>\n",
              "      <td>1000746</td>\n",
              "      <td>1020505</td>\n",
              "      <td>1042680</td>\n",
              "      <td>1065684</td>\n",
              "      <td>1075408</td>\n",
              "      <td>1089492</td>\n",
              "      <td>1113302</td>\n",
              "      <td>1145371</td>\n",
              "    </tr>\n",
              "    <tr>\n",
              "      <th>95724</th>\n",
              "      <td>1115208</td>\n",
              "      <td>1126966</td>\n",
              "      <td>1126833</td>\n",
              "      <td>1124712</td>\n",
              "      <td>1120814.0</td>\n",
              "      <td>1120696.0</td>\n",
              "      <td>1118379</td>\n",
              "      <td>1123900</td>\n",
              "      <td>1123938</td>\n",
              "      <td>1135463</td>\n",
              "      <td>1139674</td>\n",
              "      <td>1133112</td>\n",
              "      <td>1121619</td>\n",
              "      <td>1124868</td>\n",
              "      <td>1145800</td>\n",
              "      <td>1148293</td>\n",
              "      <td>1155713</td>\n",
              "      <td>1159941</td>\n",
              "      <td>1175301</td>\n",
              "      <td>1175313</td>\n",
              "      <td>1173759</td>\n",
              "      <td>1175516</td>\n",
              "      <td>1176513</td>\n",
              "      <td>1181621</td>\n",
              "      <td>1191930</td>\n",
              "      <td>1198476</td>\n",
              "      <td>1206043</td>\n",
              "      <td>1224438</td>\n",
              "      <td>1243321</td>\n",
              "      <td>1266132</td>\n",
              "      <td>1286592</td>\n",
              "      <td>1320080</td>\n",
              "      <td>1363155</td>\n",
              "      <td>1403449</td>\n",
              "      <td>1453838</td>\n",
              "      <td>1511208</td>\n",
              "      <td>1572846</td>\n",
              "    </tr>\n",
              "    <tr>\n",
              "      <th>95375</th>\n",
              "      <td>589449</td>\n",
              "      <td>594203</td>\n",
              "      <td>607317</td>\n",
              "      <td>614779</td>\n",
              "      <td>616574.0</td>\n",
              "      <td>595148.0</td>\n",
              "      <td>578796</td>\n",
              "      <td>566138</td>\n",
              "      <td>564706</td>\n",
              "      <td>558014</td>\n",
              "      <td>547877</td>\n",
              "      <td>528364</td>\n",
              "      <td>504013</td>\n",
              "      <td>480754</td>\n",
              "      <td>463746</td>\n",
              "      <td>454475</td>\n",
              "      <td>448484</td>\n",
              "      <td>460973</td>\n",
              "      <td>463976</td>\n",
              "      <td>458035</td>\n",
              "      <td>439482</td>\n",
              "      <td>431217</td>\n",
              "      <td>437202</td>\n",
              "      <td>448603</td>\n",
              "      <td>456239</td>\n",
              "      <td>455994</td>\n",
              "      <td>454596</td>\n",
              "      <td>454915</td>\n",
              "      <td>454486</td>\n",
              "      <td>446698</td>\n",
              "      <td>443908</td>\n",
              "      <td>446488</td>\n",
              "      <td>455741</td>\n",
              "      <td>460577</td>\n",
              "      <td>456573</td>\n",
              "      <td>451928</td>\n",
              "      <td>451205</td>\n",
              "    </tr>\n",
              "  </tbody>\n",
              "</table>\n",
              "<p>1399 rows × 37 columns</p>\n",
              "</div>"
            ],
            "text/plain": [
              "       4/30/2018  5/31/2018  6/30/2018  ...  2/28/2021  3/31/2021  4/30/2021\n",
              "Zip                                     ...                                 \n",
              "94109    6379815    6372370    6453549  ...    6482623    6424487    6368435\n",
              "90250     826841     834064     841843  ...     972802     987544    1005165\n",
              "94565     698872     704223     711652  ...     801987     819777     834249\n",
              "90046    3628712    3630834    3630330  ...    3862779    3875901    3894969\n",
              "94501    1479045    1499370    1503243  ...    1724443    1748584    1783701\n",
              "...          ...        ...        ...  ...        ...        ...        ...\n",
              "96108     333961     329784     327179  ...     343323     342830     340645\n",
              "96115     172763     173451     173671  ...     188893     190710     192817\n",
              "95715     932989     923634     914349  ...    1089492    1113302    1145371\n",
              "95724    1115208    1126966    1126833  ...    1453838    1511208    1572846\n",
              "95375     589449     594203     607317  ...     456573     451928     451205\n",
              "\n",
              "[1399 rows x 37 columns]"
            ]
          },
          "metadata": {
            "tags": []
          },
          "execution_count": 219
        }
      ]
    },
    {
      "cell_type": "markdown",
      "metadata": {
        "id": "a2MS2nO8VmTW"
      },
      "source": [
        "# New Section"
      ],
      "id": "a2MS2nO8VmTW"
    },
    {
      "cell_type": "markdown",
      "metadata": {
        "id": "38bcb674-e1eb-4feb-b474-40a30184df23"
      },
      "source": [
        ""
      ],
      "id": "38bcb674-e1eb-4feb-b474-40a30184df23"
    },
    {
      "cell_type": "code",
      "metadata": {
        "id": "5c11038c-ad28-4d9b-a929-8bb3a44008c0"
      },
      "source": [
        "# set the random seed\n",
        "np.random.seed(42)\n",
        "#remove text column headers\n",
        "data = sf_df.values\n",
        "data_scaled = data/1000000"
      ],
      "id": "5c11038c-ad28-4d9b-a929-8bb3a44008c0",
      "execution_count": 220,
      "outputs": []
    },
    {
      "cell_type": "markdown",
      "metadata": {
        "id": "tbHpioNvQMEL"
      },
      "source": [
        "Scale the data\n"
      ],
      "id": "tbHpioNvQMEL"
    },
    {
      "cell_type": "code",
      "metadata": {
        "id": "yUT0LG9sPmlQ"
      },
      "source": [
        "# Scale the data so that the model doesn't take too long to run (and to remove all units to ensure all features are on the same footing)\n",
        "# from sklearn.preprocessing import StandardScaler\n",
        "# scaler = StandardScaler()\n",
        "# scaler.fit(data)\n",
        "# scaler.transform(data)\n",
        "# data_scaled = scaler.transform(data)"
      ],
      "id": "yUT0LG9sPmlQ",
      "execution_count": 221,
      "outputs": []
    },
    {
      "cell_type": "code",
      "metadata": {
        "id": "se_q3158QIdf"
      },
      "source": [
        "# data_scaled.shape"
      ],
      "id": "se_q3158QIdf",
      "execution_count": 211,
      "outputs": []
    },
    {
      "cell_type": "markdown",
      "metadata": {
        "id": "f09e84e6-53aa-426d-94b5-cad1d4f1505e"
      },
      "source": [
        "Define training/testing/validation cells"
      ],
      "id": "f09e84e6-53aa-426d-94b5-cad1d4f1505e"
    },
    {
      "cell_type": "code",
      "metadata": {
        "id": "9acefd5d-d243-455e-9735-c37a123d2186",
        "colab": {
          "base_uri": "https://localhost:8080/"
        },
        "outputId": "abb58b01-12e7-4394-ce9b-ddee00e4e7cf"
      },
      "source": [
        "train_stop = 1100\n",
        "valid_stop = 1300\n",
        "n_steps = len(sf_df.columns)\n",
        "n_steps"
      ],
      "id": "9acefd5d-d243-455e-9735-c37a123d2186",
      "execution_count": 222,
      "outputs": [
        {
          "output_type": "execute_result",
          "data": {
            "text/plain": [
              "37"
            ]
          },
          "metadata": {
            "tags": []
          },
          "execution_count": 222
        }
      ]
    },
    {
      "cell_type": "code",
      "metadata": {
        "id": "9eb1dc1b-efc8-425a-bfd3-aead25d25976"
      },
      "source": [
        "# split the data into test, training and validation sets\n",
        "X_train, y_train = data_scaled[:train_stop,:-1], data_scaled[:train_stop,-1]\n",
        "X_valid, y_valid = data_scaled[train_stop:valid_stop,:-1], data_scaled[train_stop:valid_stop,-1]\n",
        "X_test, y_test =   data_scaled[valid_stop:,:-1], data_scaled[valid_stop:,-1]"
      ],
      "id": "9eb1dc1b-efc8-425a-bfd3-aead25d25976",
      "execution_count": 223,
      "outputs": []
    },
    {
      "cell_type": "code",
      "metadata": {
        "id": "Qzk_upvDK-ZC"
      },
      "source": [
        "y_train = np.expand_dims(y_train,-1)\n",
        "y_valid = np.expand_dims(y_valid,-1)\n",
        "y_test = np.expand_dims(y_test,-1)\n",
        "X_train = np.expand_dims(X_train,-1)\n",
        "X_valid = np.expand_dims(X_valid,-1)\n",
        "X_test = np.expand_dims(X_test,-1)"
      ],
      "id": "Qzk_upvDK-ZC",
      "execution_count": 224,
      "outputs": []
    },
    {
      "cell_type": "code",
      "metadata": {
        "id": "11ab4ee2-cfc9-48bb-9839-07bfd9fa605a"
      },
      "source": [
        "# Define a function to plot our sample\n",
        "def plot_series(series, y=None, y_pred=None, x_label=\"$t$\", y_label=\"$x(t)$\"):\n",
        "    plt.plot(series, \".-\")\n",
        "    if y is not None:\n",
        "        plt.plot(n_steps, y, \"bx\", markersize=10)\n",
        "    if y_pred is not None:\n",
        "        plt.plot(n_steps, y_pred, \"ro\")\n",
        "    plt.grid(True)\n",
        "    if x_label:\n",
        "        plt.xlabel(x_label, fontsize=16)\n",
        "    if y_label:\n",
        "        plt.ylabel(y_label, fontsize=16, rotation=0)\n",
        "    plt.hlines(0, 0, 100, linewidth=1)\n",
        "    plt.axis([0, n_steps + 1, 0, 1])\n"
      ],
      "id": "11ab4ee2-cfc9-48bb-9839-07bfd9fa605a",
      "execution_count": 225,
      "outputs": []
    },
    {
      "cell_type": "code",
      "metadata": {
        "colab": {
          "base_uri": "https://localhost:8080/"
        },
        "id": "g6MZV0meN-j4",
        "outputId": "2f5977f2-1620-489a-e292-166f930ef406"
      },
      "source": [
        "X_valid[0,:,0].shape"
      ],
      "id": "g6MZV0meN-j4",
      "execution_count": 226,
      "outputs": [
        {
          "output_type": "execute_result",
          "data": {
            "text/plain": [
              "(36,)"
            ]
          },
          "metadata": {
            "tags": []
          },
          "execution_count": 226
        }
      ]
    },
    {
      "cell_type": "code",
      "metadata": {
        "colab": {
          "base_uri": "https://localhost:8080/",
          "height": 315
        },
        "id": "e8d002d7-f764-4245-81af-28ac0a8659c3",
        "outputId": "44b14592-2f4a-4f9c-f67b-d4f87da2b8ab"
      },
      "source": [
        "fig, axes = plt.subplots(nrows=1, ncols=5, sharey=True, figsize=(18, 4))\n",
        "for col in range(5):\n",
        "    plt.sca(axes[col])\n",
        "    plot_series(X_valid[col, :, 0], y_valid[col, 0],\n",
        "                y_label=(\"$x(t)$\" if col==0 else None))\n",
        "save_fig(\"time_series_plot\")\n",
        "plt.show()\n",
        "# 'x' in the graphs is what we are trying to predict"
      ],
      "id": "e8d002d7-f764-4245-81af-28ac0a8659c3",
      "execution_count": 227,
      "outputs": [
        {
          "output_type": "stream",
          "text": [
            "Saving figure time_series_plot\n"
          ],
          "name": "stdout"
        },
        {
          "output_type": "display_data",
          "data": {
            "image/png": "[encoded data removed]",
            "text/plain": [
              "<Figure size 1296x288 with 5 Axes>"
            ]
          },
          "metadata": {
            "tags": [],
            "needs_background": "light"
          }
        }
      ]
    },
    {
      "cell_type": "markdown",
      "metadata": {
        "id": "NPQFgdPiaQ-G"
      },
      "source": [
        "Establish a baseline"
      ],
      "id": "NPQFgdPiaQ-G"
    },
    {
      "cell_type": "code",
      "metadata": {
        "colab": {
          "base_uri": "https://localhost:8080/"
        },
        "id": "MJaqfFu7aT1r",
        "outputId": "af51f32e-243f-4f82-ed6f-d4beba301e18"
      },
      "source": [
        "#Assume the base prediction is simply the last datapoint in the series\n",
        "y_pred = X_valid[:, -1]\n",
        "np.mean(keras.losses.mean_squared_error(y_valid, y_pred))"
      ],
      "id": "MJaqfFu7aT1r",
      "execution_count": 228,
      "outputs": [
        {
          "output_type": "execute_result",
          "data": {
            "text/plain": [
              "0.0005319341317649999"
            ]
          },
          "metadata": {
            "tags": []
          },
          "execution_count": 228
        }
      ]
    },
    {
      "cell_type": "code",
      "metadata": {
        "colab": {
          "base_uri": "https://localhost:8080/",
          "height": 293
        },
        "id": "eWUjVeGAaVoy",
        "outputId": "42a36fa3-a15e-4c8a-a598-086f6f72c4cc"
      },
      "source": [
        "plot_series(X_valid[0, :, 0], y_valid[0, 0], y_pred[0, 0])\n",
        "plt.show()"
      ],
      "id": "eWUjVeGAaVoy",
      "execution_count": 229,
      "outputs": [
        {
          "output_type": "display_data",
          "data": {
            "image/png": "[encoded data removed]",
            "text/plain": [
              "<Figure size 432x288 with 1 Axes>"
            ]
          },
          "metadata": {
            "tags": [],
            "needs_background": "light"
          }
        }
      ]
    },
    {
      "cell_type": "code",
      "metadata": {
        "id": "10uc4CZqauJP"
      },
      "source": [
        "np.random.seed(42)\n",
        "tf.random.set_seed(42)"
      ],
      "id": "10uc4CZqauJP",
      "execution_count": 230,
      "outputs": []
    },
    {
      "cell_type": "code",
      "metadata": {
        "id": "eGuEH_pwau2H"
      },
      "source": [
        "# Deep RNN\n",
        "model = keras.models.Sequential([\n",
        "  keras.layers.LSTM(128, return_sequences=True, input_shape=[None, 1]),\n",
        "    keras.layers.LSTM(128, return_sequences=True),\n",
        "    keras.layers.LSTM(1)\n",
        "    #This gives us 2 hidden layers and 1 layer at the end (the final number!. return_sequences=true ensures it passes the entire time series along at each layer)\n",
        "])"
      ],
      "id": "eGuEH_pwau2H",
      "execution_count": 231,
      "outputs": []
    },
    {
      "cell_type": "code",
      "metadata": {
        "colab": {
          "base_uri": "https://localhost:8080/"
        },
        "id": "XhpLLmDHazkS",
        "outputId": "4ce94264-987e-4b57-cee0-a95812459d3c"
      },
      "source": [
        "model.summary()"
      ],
      "id": "XhpLLmDHazkS",
      "execution_count": 232,
      "outputs": [
        {
          "output_type": "stream",
          "text": [
            "Model: \"sequential_5\"\n",
            "_________________________________________________________________\n",
            "Layer (type)                 Output Shape              Param #   \n",
            "=================================================================\n",
            "lstm_15 (LSTM)               (None, None, 128)         66560     \n",
            "_________________________________________________________________\n",
            "lstm_16 (LSTM)               (None, None, 128)         131584    \n",
            "_________________________________________________________________\n",
            "lstm_17 (LSTM)               (None, 1)                 520       \n",
            "=================================================================\n",
            "Total params: 198,664\n",
            "Trainable params: 198,664\n",
            "Non-trainable params: 0\n",
            "_________________________________________________________________\n"
          ],
          "name": "stdout"
        }
      ]
    },
    {
      "cell_type": "code",
      "metadata": {
        "colab": {
          "base_uri": "https://localhost:8080/"
        },
        "id": "TIneirXda7z3",
        "outputId": "49dc55c9-3ada-45ee-a186-1d8510d300b2"
      },
      "source": [
        "# We tried up to 20 epochs but the model started to exhibit signs of overfitting (training loss < validation loss) so we decided to stop at 6.\n",
        "model.compile(loss=tf.keras.losses.mean_absolute_percentage_error, optimizer=\"adam\")\n",
        "history = model.fit(X_train, y_train, epochs=20,\n",
        "                    validation_data=(X_valid, y_valid))"
      ],
      "id": "TIneirXda7z3",
      "execution_count": 233,
      "outputs": [
        {
          "output_type": "stream",
          "text": [
            "Epoch 1/20\n",
            "35/35 [==============================] - 4s 34ms/step - loss: 35.4305 - val_loss: 18.4124\n",
            "Epoch 2/20\n",
            "35/35 [==============================] - 0s 10ms/step - loss: 21.9892 - val_loss: 15.2949\n",
            "Epoch 3/20\n",
            "35/35 [==============================] - 0s 10ms/step - loss: 20.6395 - val_loss: 15.1957\n",
            "Epoch 4/20\n",
            "35/35 [==============================] - 0s 10ms/step - loss: 19.8554 - val_loss: 16.5339\n",
            "Epoch 5/20\n",
            "35/35 [==============================] - 0s 10ms/step - loss: 19.9035 - val_loss: 15.9371\n",
            "Epoch 6/20\n",
            "35/35 [==============================] - 0s 10ms/step - loss: 19.7772 - val_loss: 16.0140\n",
            "Epoch 7/20\n",
            "35/35 [==============================] - 0s 10ms/step - loss: 19.8110 - val_loss: 14.4932\n",
            "Epoch 8/20\n",
            "35/35 [==============================] - 0s 10ms/step - loss: 19.6909 - val_loss: 14.8201\n",
            "Epoch 9/20\n",
            "35/35 [==============================] - 0s 10ms/step - loss: 19.8303 - val_loss: 14.8119\n",
            "Epoch 10/20\n",
            "35/35 [==============================] - 0s 11ms/step - loss: 19.8041 - val_loss: 14.9703\n",
            "Epoch 11/20\n",
            "35/35 [==============================] - 0s 10ms/step - loss: 19.7929 - val_loss: 14.6927\n",
            "Epoch 12/20\n",
            "35/35 [==============================] - 0s 10ms/step - loss: 19.6850 - val_loss: 14.6272\n",
            "Epoch 13/20\n",
            "35/35 [==============================] - 0s 10ms/step - loss: 19.7732 - val_loss: 15.9523\n",
            "Epoch 14/20\n",
            "35/35 [==============================] - 0s 10ms/step - loss: 19.8041 - val_loss: 14.8800\n",
            "Epoch 15/20\n",
            "35/35 [==============================] - 0s 10ms/step - loss: 19.8595 - val_loss: 14.5877\n",
            "Epoch 16/20\n",
            "35/35 [==============================] - 0s 10ms/step - loss: 19.7165 - val_loss: 14.8631\n",
            "Epoch 17/20\n",
            "35/35 [==============================] - 0s 10ms/step - loss: 19.5692 - val_loss: 14.3821\n",
            "Epoch 18/20\n",
            "35/35 [==============================] - 0s 10ms/step - loss: 19.7347 - val_loss: 14.4050\n",
            "Epoch 19/20\n",
            "35/35 [==============================] - 0s 10ms/step - loss: 19.7036 - val_loss: 15.2011\n",
            "Epoch 20/20\n",
            "35/35 [==============================] - 0s 10ms/step - loss: 19.5655 - val_loss: 14.2652\n"
          ],
          "name": "stdout"
        }
      ]
    },
    {
      "cell_type": "code",
      "metadata": {
        "colab": {
          "base_uri": "https://localhost:8080/"
        },
        "id": "g3pYPeoFbDHQ",
        "outputId": "3cd1659c-27de-4f3d-b63c-ab3f54b18b63"
      },
      "source": [
        "model.evaluate(X_valid, y_valid)\n",
        "# we want our loss function to be as close to 0 as possible"
      ],
      "id": "g3pYPeoFbDHQ",
      "execution_count": 234,
      "outputs": [
        {
          "output_type": "stream",
          "text": [
            "7/7 [==============================] - 0s 5ms/step - loss: 14.2652\n"
          ],
          "name": "stdout"
        },
        {
          "output_type": "execute_result",
          "data": {
            "text/plain": [
              "14.265239715576172"
            ]
          },
          "metadata": {
            "tags": []
          },
          "execution_count": 234
        }
      ]
    },
    {
      "cell_type": "code",
      "metadata": {
        "id": "9MG8l1wuoB8z"
      },
      "source": [
        "model.save(\"bedroom5_trained.hdf5\")"
      ],
      "id": "9MG8l1wuoB8z",
      "execution_count": 235,
      "outputs": []
    },
    {
      "cell_type": "code",
      "metadata": {
        "colab": {
          "base_uri": "https://localhost:8080/"
        },
        "id": "rzMNYNoov-M8",
        "outputId": "378d8fa3-31da-4408-b6aa-864bd1144d46"
      },
      "source": [
        "X_train[:,1:,:].shape"
      ],
      "id": "rzMNYNoov-M8",
      "execution_count": 236,
      "outputs": [
        {
          "output_type": "execute_result",
          "data": {
            "text/plain": [
              "(1100, 35, 1)"
            ]
          },
          "metadata": {
            "tags": []
          },
          "execution_count": 236
        }
      ]
    },
    {
      "cell_type": "code",
      "metadata": {
        "colab": {
          "base_uri": "https://localhost:8080/"
        },
        "id": "57pqbf9OTL-k",
        "outputId": "9f462ada-c2e7-4b24-cc1a-b5d379d763eb"
      },
      "source": [
        "y_train[:,].shape"
      ],
      "id": "57pqbf9OTL-k",
      "execution_count": 237,
      "outputs": [
        {
          "output_type": "execute_result",
          "data": {
            "text/plain": [
              "(1100, 1)"
            ]
          },
          "metadata": {
            "tags": []
          },
          "execution_count": 237
        }
      ]
    },
    {
      "cell_type": "code",
      "metadata": {
        "colab": {
          "base_uri": "https://localhost:8080/"
        },
        "id": "Gf5wRxqgQ16L",
        "outputId": "09bdc22d-114d-4d6b-fb3a-9b69eb904876"
      },
      "source": [
        "# Model evaluations\n",
        "model.evaluate(X_train,y_train)"
      ],
      "id": "Gf5wRxqgQ16L",
      "execution_count": 238,
      "outputs": [
        {
          "output_type": "stream",
          "text": [
            "35/35 [==============================] - 0s 5ms/step - loss: 19.3833\n"
          ],
          "name": "stdout"
        },
        {
          "output_type": "execute_result",
          "data": {
            "text/plain": [
              "19.383262634277344"
            ]
          },
          "metadata": {
            "tags": []
          },
          "execution_count": 238
        }
      ]
    },
    {
      "cell_type": "code",
      "metadata": {
        "colab": {
          "base_uri": "https://localhost:8080/"
        },
        "id": "-yZSEpeqQ2HG",
        "outputId": "9d783c5f-5bcd-4733-d24d-3167ef75f0c7"
      },
      "source": [
        "model.evaluate(X_valid,y_valid)"
      ],
      "id": "-yZSEpeqQ2HG",
      "execution_count": 239,
      "outputs": [
        {
          "output_type": "stream",
          "text": [
            "7/7 [==============================] - 0s 4ms/step - loss: 14.2652\n"
          ],
          "name": "stdout"
        },
        {
          "output_type": "execute_result",
          "data": {
            "text/plain": [
              "14.265239715576172"
            ]
          },
          "metadata": {
            "tags": []
          },
          "execution_count": 239
        }
      ]
    },
    {
      "cell_type": "code",
      "metadata": {
        "colab": {
          "base_uri": "https://localhost:8080/"
        },
        "id": "DSlG7PjEQ2Q1",
        "outputId": "1dd8c422-a1b6-4f29-f446-8793a95caa93"
      },
      "source": [
        "model.evaluate(X_test,y_test)"
      ],
      "id": "DSlG7PjEQ2Q1",
      "execution_count": 240,
      "outputs": [
        {
          "output_type": "stream",
          "text": [
            "4/4 [==============================] - 0s 5ms/step - loss: 15.0208\n"
          ],
          "name": "stdout"
        },
        {
          "output_type": "execute_result",
          "data": {
            "text/plain": [
              "15.020797729492188"
            ]
          },
          "metadata": {
            "tags": []
          },
          "execution_count": 240
        }
      ]
    },
    {
      "cell_type": "code",
      "metadata": {
        "id": "Cxd3AHRhTV7F"
      },
      "source": [
        "# X_train: Use expand_dims in order to give the y_train an extra dimension.\n",
        "x_train_pred = np.concatenate((X_train[:,1:,:],np.expand_dims(y_train,-1)),axis=1)"
      ],
      "id": "Cxd3AHRhTV7F",
      "execution_count": 241,
      "outputs": []
    },
    {
      "cell_type": "code",
      "metadata": {
        "colab": {
          "base_uri": "https://localhost:8080/"
        },
        "id": "Bb_u__i3Kh3D",
        "outputId": "b27b03d4-7eae-45a2-e33b-d1aef5071aac"
      },
      "source": [
        "# build y_train prediction\n",
        "y_train_pred = model.predict(x_train_pred)\n",
        "y_train_pred.shape"
      ],
      "id": "Bb_u__i3Kh3D",
      "execution_count": 242,
      "outputs": [
        {
          "output_type": "execute_result",
          "data": {
            "text/plain": [
              "(1100, 1)"
            ]
          },
          "metadata": {
            "tags": []
          },
          "execution_count": 242
        }
      ]
    },
    {
      "cell_type": "code",
      "metadata": {
        "id": "DOFaf0I1-BaS"
      },
      "source": [
        "# X_valid: Use expand_dims in order to give the y_train an extra dimension.\n",
        "x_valid_pred = np.concatenate((X_valid[:,1:,:],np.expand_dims(y_valid,-1)),axis=1)"
      ],
      "id": "DOFaf0I1-BaS",
      "execution_count": 243,
      "outputs": []
    },
    {
      "cell_type": "code",
      "metadata": {
        "colab": {
          "base_uri": "https://localhost:8080/"
        },
        "id": "CRfLKTEJLVT3",
        "outputId": "03546252-69fd-409a-f1a6-9bf5f81d59b8"
      },
      "source": [
        "# build y_valid prediction\n",
        "y_valid_pred = model.predict(x_valid_pred)\n",
        "y_valid_pred.shape"
      ],
      "id": "CRfLKTEJLVT3",
      "execution_count": 244,
      "outputs": [
        {
          "output_type": "execute_result",
          "data": {
            "text/plain": [
              "(200, 1)"
            ]
          },
          "metadata": {
            "tags": []
          },
          "execution_count": 244
        }
      ]
    },
    {
      "cell_type": "code",
      "metadata": {
        "id": "sXrt_LgTLmYM"
      },
      "source": [
        "# X_test: Use expand_dims in order to give the y_train an extra dimension.\n",
        "x_test_pred = np.concatenate((X_test[:,1:,:],np.expand_dims(y_test,-1)),axis=1)"
      ],
      "id": "sXrt_LgTLmYM",
      "execution_count": 245,
      "outputs": []
    },
    {
      "cell_type": "code",
      "metadata": {
        "colab": {
          "base_uri": "https://localhost:8080/"
        },
        "id": "e9TARL4WLnaY",
        "outputId": "5c7da255-4f18-443b-c77f-cbb86698eb8b"
      },
      "source": [
        "# build y_test prediction\n",
        "y_test_pred = model.predict(x_test_pred)\n",
        "y_test_pred.shape"
      ],
      "id": "e9TARL4WLnaY",
      "execution_count": 246,
      "outputs": [
        {
          "output_type": "execute_result",
          "data": {
            "text/plain": [
              "(99, 1)"
            ]
          },
          "metadata": {
            "tags": []
          },
          "execution_count": 246
        }
      ]
    },
    {
      "cell_type": "code",
      "metadata": {
        "colab": {
          "base_uri": "https://localhost:8080/",
          "height": 225
        },
        "id": "pwHWyqa6icob",
        "outputId": "b56efa53-82d0-4126-be42-7aa09f19d567"
      },
      "source": [
        "np.concatenate((y_pred_all,np.zeros((1399,37))),axis=1)\n"
      ],
      "id": "pwHWyqa6icob",
      "execution_count": 247,
      "outputs": [
        {
          "output_type": "error",
          "ename": "ValueError",
          "evalue": "ignored",
          "traceback": [
            "\u001b[0;31m---------------------------------------------------------------------------\u001b[0m",
            "\u001b[0;31mValueError\u001b[0m                                Traceback (most recent call last)",
            "\u001b[0;32m<ipython-input-247-88b738a956c4>\u001b[0m in \u001b[0;36m<module>\u001b[0;34m()\u001b[0m\n\u001b[0;32m----> 1\u001b[0;31m \u001b[0mnp\u001b[0m\u001b[0;34m.\u001b[0m\u001b[0mconcatenate\u001b[0m\u001b[0;34m(\u001b[0m\u001b[0;34m(\u001b[0m\u001b[0my_pred_all\u001b[0m\u001b[0;34m,\u001b[0m\u001b[0mnp\u001b[0m\u001b[0;34m.\u001b[0m\u001b[0mzeros\u001b[0m\u001b[0;34m(\u001b[0m\u001b[0;34m(\u001b[0m\u001b[0;36m1399\u001b[0m\u001b[0;34m,\u001b[0m\u001b[0;36m37\u001b[0m\u001b[0;34m)\u001b[0m\u001b[0;34m)\u001b[0m\u001b[0;34m)\u001b[0m\u001b[0;34m,\u001b[0m\u001b[0maxis\u001b[0m\u001b[0;34m=\u001b[0m\u001b[0;36m1\u001b[0m\u001b[0;34m)\u001b[0m\u001b[0;34m\u001b[0m\u001b[0;34m\u001b[0m\u001b[0m\n\u001b[0m",
            "\u001b[0;32m<__array_function__ internals>\u001b[0m in \u001b[0;36mconcatenate\u001b[0;34m(*args, **kwargs)\u001b[0m\n",
            "\u001b[0;31mValueError\u001b[0m: all the input array dimensions for the concatenation axis must match exactly, but along dimension 0, the array at index 0 has size 1566 and the array at index 1 has size 1399"
          ]
        }
      ]
    },
    {
      "cell_type": "code",
      "metadata": {
        "colab": {
          "base_uri": "https://localhost:8080/",
          "height": 422
        },
        "id": "9TF6-BIkN9Ms",
        "outputId": "287df8f5-d858-4d1d-a960-fc0ef8b70a5d"
      },
      "source": [
        "\n",
        "# concatenate all three y_pred series together and append them to the original data\n",
        "y_pred_all = np.concatenate((y_train_pred,y_valid_pred,y_test_pred),axis=0)\n",
        "y_pred_all_df = pd.DataFrame(y_pred_all).astype('float')\n",
        "y_pred_all_df*1000000\n",
        "\n",
        "# np.mean(scaler.inverse_transform(np.concatenate((y_pred_all,np.zeros((1714,303))),axis=1))[:,0])"
      ],
      "id": "9TF6-BIkN9Ms",
      "execution_count": 248,
      "outputs": [
        {
          "output_type": "execute_result",
          "data": {
            "text/html": [
              "<div>\n",
              "<style scoped>\n",
              "    .dataframe tbody tr th:only-of-type {\n",
              "        vertical-align: middle;\n",
              "    }\n",
              "\n",
              "    .dataframe tbody tr th {\n",
              "        vertical-align: top;\n",
              "    }\n",
              "\n",
              "    .dataframe thead th {\n",
              "        text-align: right;\n",
              "    }\n",
              "</style>\n",
              "<table border=\"1\" class=\"dataframe\">\n",
              "  <thead>\n",
              "    <tr style=\"text-align: right;\">\n",
              "      <th></th>\n",
              "      <th>0</th>\n",
              "    </tr>\n",
              "  </thead>\n",
              "  <tbody>\n",
              "    <tr>\n",
              "      <th>0</th>\n",
              "      <td>999932.408333</td>\n",
              "    </tr>\n",
              "    <tr>\n",
              "      <th>1</th>\n",
              "      <td>988717.257977</td>\n",
              "    </tr>\n",
              "    <tr>\n",
              "      <th>2</th>\n",
              "      <td>827204.644680</td>\n",
              "    </tr>\n",
              "    <tr>\n",
              "      <th>3</th>\n",
              "      <td>999935.746193</td>\n",
              "    </tr>\n",
              "    <tr>\n",
              "      <th>4</th>\n",
              "      <td>999935.984612</td>\n",
              "    </tr>\n",
              "    <tr>\n",
              "      <th>...</th>\n",
              "      <td>...</td>\n",
              "    </tr>\n",
              "    <tr>\n",
              "      <th>1394</th>\n",
              "      <td>363086.462021</td>\n",
              "    </tr>\n",
              "    <tr>\n",
              "      <th>1395</th>\n",
              "      <td>196355.536580</td>\n",
              "    </tr>\n",
              "    <tr>\n",
              "      <th>1396</th>\n",
              "      <td>999018.788338</td>\n",
              "    </tr>\n",
              "    <tr>\n",
              "      <th>1397</th>\n",
              "      <td>999924.063683</td>\n",
              "    </tr>\n",
              "    <tr>\n",
              "      <th>1398</th>\n",
              "      <td>507650.434971</td>\n",
              "    </tr>\n",
              "  </tbody>\n",
              "</table>\n",
              "<p>1399 rows × 1 columns</p>\n",
              "</div>"
            ],
            "text/plain": [
              "                  0\n",
              "0     999932.408333\n",
              "1     988717.257977\n",
              "2     827204.644680\n",
              "3     999935.746193\n",
              "4     999935.984612\n",
              "...             ...\n",
              "1394  363086.462021\n",
              "1395  196355.536580\n",
              "1396  999018.788338\n",
              "1397  999924.063683\n",
              "1398  507650.434971\n",
              "\n",
              "[1399 rows x 1 columns]"
            ]
          },
          "metadata": {
            "tags": []
          },
          "execution_count": 248
        }
      ]
    },
    {
      "cell_type": "code",
      "metadata": {
        "id": "IXW3k-B_XWr6"
      },
      "source": [
        "sf_df['5/31/2021'] = y_pred_all_df[0].values"
      ],
      "id": "IXW3k-B_XWr6",
      "execution_count": 249,
      "outputs": []
    },
    {
      "cell_type": "code",
      "metadata": {
        "id": "tOHLIEXjSk_g"
      },
      "source": [
        "sf_df[\"max\"]=sf_df.iloc[:,0:-2].max(axis=1)"
      ],
      "id": "tOHLIEXjSk_g",
      "execution_count": 250,
      "outputs": []
    },
    {
      "cell_type": "code",
      "metadata": {
        "id": "KkBU-VaAfsEW"
      },
      "source": [
        "sf_df[\"min\"]=sf_df.iloc[:,0:-3].min(axis=1)\n"
      ],
      "id": "KkBU-VaAfsEW",
      "execution_count": 251,
      "outputs": []
    },
    {
      "cell_type": "code",
      "metadata": {
        "id": "O_4rJkKKSjIv"
      },
      "source": [
        "sf_df['5/31/2021_scaled'] = sf_df['5/31/2021']*(sf_df['max']-sf_df['min'])+sf_df['min']"
      ],
      "id": "O_4rJkKKSjIv",
      "execution_count": 252,
      "outputs": []
    },
    {
      "cell_type": "code",
      "metadata": {
        "id": "Emb5wV1ESjOX"
      },
      "source": [
        "sf_final_df = sf_df.drop(['max','min','5/31/2021'],axis=1)"
      ],
      "id": "Emb5wV1ESjOX",
      "execution_count": 253,
      "outputs": []
    },
    {
      "cell_type": "code",
      "metadata": {
        "colab": {
          "base_uri": "https://localhost:8080/",
          "height": 474
        },
        "id": "cJ7shgvHkFps",
        "outputId": "e7ee37ce-9266-4db3-8721-c81b1a0c7824"
      },
      "source": [
        "sf_final_df.rename(columns={'5/31/2021_scaled':'5/31/2021'},inplace=True)\n",
        "sf_final_df"
      ],
      "id": "cJ7shgvHkFps",
      "execution_count": 254,
      "outputs": [
        {
          "output_type": "execute_result",
          "data": {
            "text/html": [
              "<div>\n",
              "<style scoped>\n",
              "    .dataframe tbody tr th:only-of-type {\n",
              "        vertical-align: middle;\n",
              "    }\n",
              "\n",
              "    .dataframe tbody tr th {\n",
              "        vertical-align: top;\n",
              "    }\n",
              "\n",
              "    .dataframe thead th {\n",
              "        text-align: right;\n",
              "    }\n",
              "</style>\n",
              "<table border=\"1\" class=\"dataframe\">\n",
              "  <thead>\n",
              "    <tr style=\"text-align: right;\">\n",
              "      <th></th>\n",
              "      <th>4/30/2018</th>\n",
              "      <th>5/31/2018</th>\n",
              "      <th>6/30/2018</th>\n",
              "      <th>7/31/2018</th>\n",
              "      <th>8/31/2018</th>\n",
              "      <th>9/30/2018</th>\n",
              "      <th>10/31/2018</th>\n",
              "      <th>11/30/2018</th>\n",
              "      <th>12/31/2018</th>\n",
              "      <th>1/31/2019</th>\n",
              "      <th>2/28/2019</th>\n",
              "      <th>3/31/2019</th>\n",
              "      <th>4/30/2019</th>\n",
              "      <th>5/31/2019</th>\n",
              "      <th>6/30/2019</th>\n",
              "      <th>7/31/2019</th>\n",
              "      <th>8/31/2019</th>\n",
              "      <th>9/30/2019</th>\n",
              "      <th>10/31/2019</th>\n",
              "      <th>11/30/2019</th>\n",
              "      <th>12/31/2019</th>\n",
              "      <th>1/31/2020</th>\n",
              "      <th>2/29/2020</th>\n",
              "      <th>3/31/2020</th>\n",
              "      <th>4/30/2020</th>\n",
              "      <th>5/31/2020</th>\n",
              "      <th>6/30/2020</th>\n",
              "      <th>7/31/2020</th>\n",
              "      <th>8/31/2020</th>\n",
              "      <th>9/30/2020</th>\n",
              "      <th>10/31/2020</th>\n",
              "      <th>11/30/2020</th>\n",
              "      <th>12/31/2020</th>\n",
              "      <th>1/31/2021</th>\n",
              "      <th>2/28/2021</th>\n",
              "      <th>3/31/2021</th>\n",
              "      <th>4/30/2021</th>\n",
              "      <th>5/31/2021</th>\n",
              "    </tr>\n",
              "    <tr>\n",
              "      <th>Zip</th>\n",
              "      <th></th>\n",
              "      <th></th>\n",
              "      <th></th>\n",
              "      <th></th>\n",
              "      <th></th>\n",
              "      <th></th>\n",
              "      <th></th>\n",
              "      <th></th>\n",
              "      <th></th>\n",
              "      <th></th>\n",
              "      <th></th>\n",
              "      <th></th>\n",
              "      <th></th>\n",
              "      <th></th>\n",
              "      <th></th>\n",
              "      <th></th>\n",
              "      <th></th>\n",
              "      <th></th>\n",
              "      <th></th>\n",
              "      <th></th>\n",
              "      <th></th>\n",
              "      <th></th>\n",
              "      <th></th>\n",
              "      <th></th>\n",
              "      <th></th>\n",
              "      <th></th>\n",
              "      <th></th>\n",
              "      <th></th>\n",
              "      <th></th>\n",
              "      <th></th>\n",
              "      <th></th>\n",
              "      <th></th>\n",
              "      <th></th>\n",
              "      <th></th>\n",
              "      <th></th>\n",
              "      <th></th>\n",
              "      <th></th>\n",
              "      <th></th>\n",
              "    </tr>\n",
              "  </thead>\n",
              "  <tbody>\n",
              "    <tr>\n",
              "      <th>94109</th>\n",
              "      <td>6379815</td>\n",
              "      <td>6372370</td>\n",
              "      <td>6453549</td>\n",
              "      <td>6646063</td>\n",
              "      <td>6858885.0</td>\n",
              "      <td>7040450.0</td>\n",
              "      <td>7138660</td>\n",
              "      <td>7209044</td>\n",
              "      <td>7233256</td>\n",
              "      <td>7256251</td>\n",
              "      <td>7253773</td>\n",
              "      <td>7238719</td>\n",
              "      <td>7147916</td>\n",
              "      <td>7159196</td>\n",
              "      <td>7143733</td>\n",
              "      <td>7089125</td>\n",
              "      <td>6958825</td>\n",
              "      <td>6876351</td>\n",
              "      <td>6923347</td>\n",
              "      <td>7014985</td>\n",
              "      <td>7115640</td>\n",
              "      <td>7123492</td>\n",
              "      <td>7139285</td>\n",
              "      <td>7123600</td>\n",
              "      <td>7130102</td>\n",
              "      <td>7087990</td>\n",
              "      <td>7039456</td>\n",
              "      <td>6988472</td>\n",
              "      <td>6974954</td>\n",
              "      <td>6945728</td>\n",
              "      <td>6842997</td>\n",
              "      <td>6719730</td>\n",
              "      <td>6607319</td>\n",
              "      <td>6551546</td>\n",
              "      <td>6482623</td>\n",
              "      <td>6424487</td>\n",
              "      <td>6368435</td>\n",
              "      <td>7.256191e+06</td>\n",
              "    </tr>\n",
              "    <tr>\n",
              "      <th>90250</th>\n",
              "      <td>826841</td>\n",
              "      <td>834064</td>\n",
              "      <td>841843</td>\n",
              "      <td>844301</td>\n",
              "      <td>844994.0</td>\n",
              "      <td>845722.0</td>\n",
              "      <td>850598</td>\n",
              "      <td>854415</td>\n",
              "      <td>857588</td>\n",
              "      <td>861477</td>\n",
              "      <td>862517</td>\n",
              "      <td>862017</td>\n",
              "      <td>860705</td>\n",
              "      <td>864220</td>\n",
              "      <td>866996</td>\n",
              "      <td>867276</td>\n",
              "      <td>866198</td>\n",
              "      <td>867572</td>\n",
              "      <td>871361</td>\n",
              "      <td>873817</td>\n",
              "      <td>878428</td>\n",
              "      <td>882342</td>\n",
              "      <td>887838</td>\n",
              "      <td>892650</td>\n",
              "      <td>896521</td>\n",
              "      <td>898013</td>\n",
              "      <td>898998</td>\n",
              "      <td>906411</td>\n",
              "      <td>916184</td>\n",
              "      <td>925211</td>\n",
              "      <td>931792</td>\n",
              "      <td>940967</td>\n",
              "      <td>950004</td>\n",
              "      <td>960570</td>\n",
              "      <td>972802</td>\n",
              "      <td>987544</td>\n",
              "      <td>1005165</td>\n",
              "      <td>9.857308e+05</td>\n",
              "    </tr>\n",
              "    <tr>\n",
              "      <th>94565</th>\n",
              "      <td>698872</td>\n",
              "      <td>704223</td>\n",
              "      <td>711652</td>\n",
              "      <td>716646</td>\n",
              "      <td>715352.0</td>\n",
              "      <td>714243.0</td>\n",
              "      <td>715311</td>\n",
              "      <td>714716</td>\n",
              "      <td>712668</td>\n",
              "      <td>711763</td>\n",
              "      <td>707846</td>\n",
              "      <td>705333</td>\n",
              "      <td>704134</td>\n",
              "      <td>709428</td>\n",
              "      <td>709876</td>\n",
              "      <td>705802</td>\n",
              "      <td>699531</td>\n",
              "      <td>692898</td>\n",
              "      <td>692557</td>\n",
              "      <td>694779</td>\n",
              "      <td>702902</td>\n",
              "      <td>702409</td>\n",
              "      <td>700127</td>\n",
              "      <td>700486</td>\n",
              "      <td>706772</td>\n",
              "      <td>709537</td>\n",
              "      <td>711181</td>\n",
              "      <td>718536</td>\n",
              "      <td>731190</td>\n",
              "      <td>745042</td>\n",
              "      <td>754411</td>\n",
              "      <td>763344</td>\n",
              "      <td>769304</td>\n",
              "      <td>783152</td>\n",
              "      <td>801987</td>\n",
              "      <td>819777</td>\n",
              "      <td>834249</td>\n",
              "      <td>7.977940e+05</td>\n",
              "    </tr>\n",
              "    <tr>\n",
              "      <th>90046</th>\n",
              "      <td>3628712</td>\n",
              "      <td>3630834</td>\n",
              "      <td>3630330</td>\n",
              "      <td>3636156</td>\n",
              "      <td>3635452.0</td>\n",
              "      <td>3638526.0</td>\n",
              "      <td>3640032</td>\n",
              "      <td>3643168</td>\n",
              "      <td>3632873</td>\n",
              "      <td>3628540</td>\n",
              "      <td>3602360</td>\n",
              "      <td>3575449</td>\n",
              "      <td>3566593</td>\n",
              "      <td>3593074</td>\n",
              "      <td>3633782</td>\n",
              "      <td>3623346</td>\n",
              "      <td>3598804</td>\n",
              "      <td>3564265</td>\n",
              "      <td>3566690</td>\n",
              "      <td>3560471</td>\n",
              "      <td>3564233</td>\n",
              "      <td>3560556</td>\n",
              "      <td>3588587</td>\n",
              "      <td>3621087</td>\n",
              "      <td>3648268</td>\n",
              "      <td>3642742</td>\n",
              "      <td>3625196</td>\n",
              "      <td>3651188</td>\n",
              "      <td>3692995</td>\n",
              "      <td>3741758</td>\n",
              "      <td>3765527</td>\n",
              "      <td>3793417</td>\n",
              "      <td>3821094</td>\n",
              "      <td>3847993</td>\n",
              "      <td>3862779</td>\n",
              "      <td>3875901</td>\n",
              "      <td>3894969</td>\n",
              "      <td>3.875881e+06</td>\n",
              "    </tr>\n",
              "    <tr>\n",
              "      <th>94501</th>\n",
              "      <td>1479045</td>\n",
              "      <td>1499370</td>\n",
              "      <td>1503243</td>\n",
              "      <td>1487025</td>\n",
              "      <td>1474190.0</td>\n",
              "      <td>1461113.0</td>\n",
              "      <td>1468738</td>\n",
              "      <td>1471075</td>\n",
              "      <td>1470779</td>\n",
              "      <td>1464889</td>\n",
              "      <td>1461041</td>\n",
              "      <td>1460942</td>\n",
              "      <td>1462092</td>\n",
              "      <td>1473742</td>\n",
              "      <td>1491092</td>\n",
              "      <td>1518361</td>\n",
              "      <td>1529940</td>\n",
              "      <td>1543751</td>\n",
              "      <td>1540484</td>\n",
              "      <td>1541071</td>\n",
              "      <td>1551401</td>\n",
              "      <td>1574517</td>\n",
              "      <td>1591243</td>\n",
              "      <td>1602981</td>\n",
              "      <td>1604312</td>\n",
              "      <td>1602327</td>\n",
              "      <td>1598709</td>\n",
              "      <td>1603235</td>\n",
              "      <td>1619133</td>\n",
              "      <td>1633813</td>\n",
              "      <td>1654649</td>\n",
              "      <td>1675906</td>\n",
              "      <td>1693925</td>\n",
              "      <td>1705341</td>\n",
              "      <td>1724443</td>\n",
              "      <td>1748584</td>\n",
              "      <td>1783701</td>\n",
              "      <td>1.748566e+06</td>\n",
              "    </tr>\n",
              "    <tr>\n",
              "      <th>...</th>\n",
              "      <td>...</td>\n",
              "      <td>...</td>\n",
              "      <td>...</td>\n",
              "      <td>...</td>\n",
              "      <td>...</td>\n",
              "      <td>...</td>\n",
              "      <td>...</td>\n",
              "      <td>...</td>\n",
              "      <td>...</td>\n",
              "      <td>...</td>\n",
              "      <td>...</td>\n",
              "      <td>...</td>\n",
              "      <td>...</td>\n",
              "      <td>...</td>\n",
              "      <td>...</td>\n",
              "      <td>...</td>\n",
              "      <td>...</td>\n",
              "      <td>...</td>\n",
              "      <td>...</td>\n",
              "      <td>...</td>\n",
              "      <td>...</td>\n",
              "      <td>...</td>\n",
              "      <td>...</td>\n",
              "      <td>...</td>\n",
              "      <td>...</td>\n",
              "      <td>...</td>\n",
              "      <td>...</td>\n",
              "      <td>...</td>\n",
              "      <td>...</td>\n",
              "      <td>...</td>\n",
              "      <td>...</td>\n",
              "      <td>...</td>\n",
              "      <td>...</td>\n",
              "      <td>...</td>\n",
              "      <td>...</td>\n",
              "      <td>...</td>\n",
              "      <td>...</td>\n",
              "      <td>...</td>\n",
              "    </tr>\n",
              "    <tr>\n",
              "      <th>96108</th>\n",
              "      <td>333961</td>\n",
              "      <td>329784</td>\n",
              "      <td>327179</td>\n",
              "      <td>316030</td>\n",
              "      <td>309208.0</td>\n",
              "      <td>304812.0</td>\n",
              "      <td>302871</td>\n",
              "      <td>302861</td>\n",
              "      <td>303868</td>\n",
              "      <td>307165</td>\n",
              "      <td>311662</td>\n",
              "      <td>313365</td>\n",
              "      <td>310171</td>\n",
              "      <td>304618</td>\n",
              "      <td>302799</td>\n",
              "      <td>302926</td>\n",
              "      <td>303749</td>\n",
              "      <td>304218</td>\n",
              "      <td>306242</td>\n",
              "      <td>307374</td>\n",
              "      <td>305100</td>\n",
              "      <td>301875</td>\n",
              "      <td>301042</td>\n",
              "      <td>302872</td>\n",
              "      <td>307571</td>\n",
              "      <td>314595</td>\n",
              "      <td>320960</td>\n",
              "      <td>327275</td>\n",
              "      <td>331674</td>\n",
              "      <td>335272</td>\n",
              "      <td>336816</td>\n",
              "      <td>338240</td>\n",
              "      <td>341125</td>\n",
              "      <td>343607</td>\n",
              "      <td>343323</td>\n",
              "      <td>342830</td>\n",
              "      <td>340645</td>\n",
              "      <td>3.164968e+05</td>\n",
              "    </tr>\n",
              "    <tr>\n",
              "      <th>96115</th>\n",
              "      <td>172763</td>\n",
              "      <td>173451</td>\n",
              "      <td>173671</td>\n",
              "      <td>175060</td>\n",
              "      <td>176762.0</td>\n",
              "      <td>178368.0</td>\n",
              "      <td>181314</td>\n",
              "      <td>184435</td>\n",
              "      <td>188072</td>\n",
              "      <td>189543</td>\n",
              "      <td>190203</td>\n",
              "      <td>189720</td>\n",
              "      <td>191303</td>\n",
              "      <td>192365</td>\n",
              "      <td>194239</td>\n",
              "      <td>193764</td>\n",
              "      <td>195997</td>\n",
              "      <td>197292</td>\n",
              "      <td>197301</td>\n",
              "      <td>195067</td>\n",
              "      <td>193906</td>\n",
              "      <td>193651</td>\n",
              "      <td>193475</td>\n",
              "      <td>193263</td>\n",
              "      <td>191704</td>\n",
              "      <td>190682</td>\n",
              "      <td>189201</td>\n",
              "      <td>188850</td>\n",
              "      <td>187035</td>\n",
              "      <td>185930</td>\n",
              "      <td>185503</td>\n",
              "      <td>186565</td>\n",
              "      <td>186810</td>\n",
              "      <td>187659</td>\n",
              "      <td>188893</td>\n",
              "      <td>190710</td>\n",
              "      <td>192817</td>\n",
              "      <td>1.775812e+05</td>\n",
              "    </tr>\n",
              "    <tr>\n",
              "      <th>95715</th>\n",
              "      <td>932989</td>\n",
              "      <td>923634</td>\n",
              "      <td>914349</td>\n",
              "      <td>898167</td>\n",
              "      <td>890271.0</td>\n",
              "      <td>879903.0</td>\n",
              "      <td>877501</td>\n",
              "      <td>871895</td>\n",
              "      <td>859896</td>\n",
              "      <td>877335</td>\n",
              "      <td>901690</td>\n",
              "      <td>918674</td>\n",
              "      <td>918259</td>\n",
              "      <td>936528</td>\n",
              "      <td>954031</td>\n",
              "      <td>949574</td>\n",
              "      <td>929441</td>\n",
              "      <td>917519</td>\n",
              "      <td>909798</td>\n",
              "      <td>905828</td>\n",
              "      <td>908255</td>\n",
              "      <td>915671</td>\n",
              "      <td>920134</td>\n",
              "      <td>920040</td>\n",
              "      <td>924268</td>\n",
              "      <td>920922</td>\n",
              "      <td>922789</td>\n",
              "      <td>945472</td>\n",
              "      <td>974128</td>\n",
              "      <td>1000746</td>\n",
              "      <td>1020505</td>\n",
              "      <td>1042680</td>\n",
              "      <td>1065684</td>\n",
              "      <td>1075408</td>\n",
              "      <td>1089492</td>\n",
              "      <td>1113302</td>\n",
              "      <td>1145371</td>\n",
              "      <td>1.113053e+06</td>\n",
              "    </tr>\n",
              "    <tr>\n",
              "      <th>95724</th>\n",
              "      <td>1115208</td>\n",
              "      <td>1126966</td>\n",
              "      <td>1126833</td>\n",
              "      <td>1124712</td>\n",
              "      <td>1120814.0</td>\n",
              "      <td>1120696.0</td>\n",
              "      <td>1118379</td>\n",
              "      <td>1123900</td>\n",
              "      <td>1123938</td>\n",
              "      <td>1135463</td>\n",
              "      <td>1139674</td>\n",
              "      <td>1133112</td>\n",
              "      <td>1121619</td>\n",
              "      <td>1124868</td>\n",
              "      <td>1145800</td>\n",
              "      <td>1148293</td>\n",
              "      <td>1155713</td>\n",
              "      <td>1159941</td>\n",
              "      <td>1175301</td>\n",
              "      <td>1175313</td>\n",
              "      <td>1173759</td>\n",
              "      <td>1175516</td>\n",
              "      <td>1176513</td>\n",
              "      <td>1181621</td>\n",
              "      <td>1191930</td>\n",
              "      <td>1198476</td>\n",
              "      <td>1206043</td>\n",
              "      <td>1224438</td>\n",
              "      <td>1243321</td>\n",
              "      <td>1266132</td>\n",
              "      <td>1286592</td>\n",
              "      <td>1320080</td>\n",
              "      <td>1363155</td>\n",
              "      <td>1403449</td>\n",
              "      <td>1453838</td>\n",
              "      <td>1511208</td>\n",
              "      <td>1572846</td>\n",
              "      <td>1.511178e+06</td>\n",
              "    </tr>\n",
              "    <tr>\n",
              "      <th>95375</th>\n",
              "      <td>589449</td>\n",
              "      <td>594203</td>\n",
              "      <td>607317</td>\n",
              "      <td>614779</td>\n",
              "      <td>616574.0</td>\n",
              "      <td>595148.0</td>\n",
              "      <td>578796</td>\n",
              "      <td>566138</td>\n",
              "      <td>564706</td>\n",
              "      <td>558014</td>\n",
              "      <td>547877</td>\n",
              "      <td>528364</td>\n",
              "      <td>504013</td>\n",
              "      <td>480754</td>\n",
              "      <td>463746</td>\n",
              "      <td>454475</td>\n",
              "      <td>448484</td>\n",
              "      <td>460973</td>\n",
              "      <td>463976</td>\n",
              "      <td>458035</td>\n",
              "      <td>439482</td>\n",
              "      <td>431217</td>\n",
              "      <td>437202</td>\n",
              "      <td>448603</td>\n",
              "      <td>456239</td>\n",
              "      <td>455994</td>\n",
              "      <td>454596</td>\n",
              "      <td>454915</td>\n",
              "      <td>454486</td>\n",
              "      <td>446698</td>\n",
              "      <td>443908</td>\n",
              "      <td>446488</td>\n",
              "      <td>455741</td>\n",
              "      <td>460577</td>\n",
              "      <td>456573</td>\n",
              "      <td>451928</td>\n",
              "      <td>451205</td>\n",
              "      <td>5.253136e+05</td>\n",
              "    </tr>\n",
              "  </tbody>\n",
              "</table>\n",
              "<p>1399 rows × 38 columns</p>\n",
              "</div>"
            ],
            "text/plain": [
              "       4/30/2018  5/31/2018  6/30/2018  ...  3/31/2021  4/30/2021     5/31/2021\n",
              "Zip                                     ...                                    \n",
              "94109    6379815    6372370    6453549  ...    6424487    6368435  7.256191e+06\n",
              "90250     826841     834064     841843  ...     987544    1005165  9.857308e+05\n",
              "94565     698872     704223     711652  ...     819777     834249  7.977940e+05\n",
              "90046    3628712    3630834    3630330  ...    3875901    3894969  3.875881e+06\n",
              "94501    1479045    1499370    1503243  ...    1748584    1783701  1.748566e+06\n",
              "...          ...        ...        ...  ...        ...        ...           ...\n",
              "96108     333961     329784     327179  ...     342830     340645  3.164968e+05\n",
              "96115     172763     173451     173671  ...     190710     192817  1.775812e+05\n",
              "95715     932989     923634     914349  ...    1113302    1145371  1.113053e+06\n",
              "95724    1115208    1126966    1126833  ...    1511208    1572846  1.511178e+06\n",
              "95375     589449     594203     607317  ...     451928     451205  5.253136e+05\n",
              "\n",
              "[1399 rows x 38 columns]"
            ]
          },
          "metadata": {
            "tags": []
          },
          "execution_count": 254
        }
      ]
    },
    {
      "cell_type": "code",
      "metadata": {
        "id": "mvmayudwVQrZ"
      },
      "source": [
        "sf_final_df.to_csv('bedroom5_final_predicted_3yr.csv',index=True)"
      ],
      "id": "mvmayudwVQrZ",
      "execution_count": 255,
      "outputs": []
    },
    {
      "cell_type": "code",
      "metadata": {
        "id": "mJwzQKBULlZ9"
      },
      "source": [
        ""
      ],
      "id": "mJwzQKBULlZ9",
      "execution_count": null,
      "outputs": []
    },
    {
      "cell_type": "code",
      "metadata": {
        "id": "0FUpTls2VYse"
      },
      "source": [
        ""
      ],
      "id": "0FUpTls2VYse",
      "execution_count": null,
      "outputs": []
    },
    {
      "cell_type": "code",
      "metadata": {
        "id": "yYbGbokxVeIg"
      },
      "source": [
        ""
      ],
      "id": "yYbGbokxVeIg",
      "execution_count": null,
      "outputs": []
    },
    {
      "cell_type": "code",
      "metadata": {
        "id": "SSQIbhz5LeHy"
      },
      "source": [
        ""
      ],
      "id": "SSQIbhz5LeHy",
      "execution_count": null,
      "outputs": []
    }
  ]
}